{
 "cells": [
  {
   "cell_type": "markdown",
   "metadata": {
    "vscode": {
     "languageId": "plaintext"
    }
   },
   "source": [
    "## Yolo11 tests"
   ]
  },
  {
   "cell_type": "code",
   "execution_count": 1,
   "metadata": {},
   "outputs": [],
   "source": [
    "%load_ext autoreload\n",
    "%autoreload 2"
   ]
  },
  {
   "cell_type": "code",
   "execution_count": 2,
   "metadata": {},
   "outputs": [],
   "source": [
    "import os , sys\n",
    "sys.path.append('..')\n",
    "from pathlib import Path\n",
    "cur_path = Path(os.getcwd()).parent\n",
    "sam2_path = cur_path / 'sam2_octron'\n",
    "sys.path.append(cur_path.as_posix())\n",
    "from matplotlib import pyplot as plt\n",
    "import cmasher as cmr\n",
    "import numpy as np\n",
    "import seaborn as sns\n",
    "sns.set_theme(style='white')\n",
    "%config InlineBackend.figure_format = 'retina'"
   ]
  },
  {
   "cell_type": "code",
   "execution_count": 3,
   "metadata": {},
   "outputs": [],
   "source": [
    "from octron.yolo_octron.yolo_octron import YOLO_octron\n",
    "from octron.yolo_octron.helpers.yolo_checks import check_yolo_models"
   ]
  },
  {
   "cell_type": "code",
   "execution_count": 4,
   "metadata": {},
   "outputs": [],
   "source": [
    "base_path = Path('/Users/horst/Documents/python/OCTRON/octron/notebooks').parent\n",
    "models_yaml_path = base_path / 'yolo_octron/yolo_models.yaml'\n",
    "\n",
    "project_path = Path('/Users/horst/Downloads/octron_project_2')\n",
    "assert project_path.exists()"
   ]
  },
  {
   "cell_type": "markdown",
   "metadata": {},
   "source": [
    "### Organize training data "
   ]
  },
  {
   "cell_type": "code",
   "execution_count": 6,
   "metadata": {},
   "outputs": [
    {
     "name": "stdout",
     "output_type": "stream",
     "text": [
      "Models folder /Users/horst/Documents/python/OCTRON/octron/yolo_octron/models exists.\n",
      "Model file /Users/horst/Documents/python/OCTRON/octron/yolo_octron/models/yolo11m-seg.pt exists. Skipping download.\n",
      "Model file /Users/horst/Documents/python/OCTRON/octron/yolo_octron/models/yolo11l-seg.pt exists. Skipping download.\n",
      "Model file /Users/horst/Documents/python/OCTRON/octron/yolo_octron/models/yolo11x-seg.pt exists. Skipping download.\n",
      "Created fresh training directory \"/Users/horst/Downloads/octron_project_2/model\"\n",
      "YOLO Octron initialized with project: '/Users/horst/Downloads/octron_project_2'\n"
     ]
    }
   ],
   "source": [
    "yolo_octron = YOLO_octron(project_path=project_path,\n",
    "                          models_yaml_path=models_yaml_path,\n",
    "                          clean_training_dir=True,\n",
    "                          )"
   ]
  },
  {
   "cell_type": "code",
   "execution_count": 8,
   "metadata": {},
   "outputs": [
    {
     "name": "stdout",
     "output_type": "stream",
     "text": [
      "📖 Octron object organizer loaded from /Users/horst/Downloads/octron_project_2/f080acc6/object_organizer.json\n",
      "📖 Octron object organizer loaded from /Users/horst/Downloads/octron_project_2/7c724296/object_organizer.json\n",
      "📖 Octron object organizer loaded from /Users/horst/Downloads/octron_project_2/c22c039f/object_organizer.json\n"
     ]
    },
    {
     "data": {
      "application/vnd.jupyter.widget-view+json": {
       "model_id": "310fbe7c24254e8da51362b4c3bf6d76",
       "version_major": 2,
       "version_minor": 0
      },
      "text/plain": [
       "Polygons for label worm:   0%|          | 0/99 [00:00<?, ?it/s]"
      ]
     },
     "metadata": {},
     "output_type": "display_data"
    },
    {
     "data": {
      "application/vnd.jupyter.widget-view+json": {
       "model_id": "aa4170fa501948d78d9c99b447557c52",
       "version_major": 2,
       "version_minor": 0
      },
      "text/plain": [
       "Polygons for label worm:   0%|          | 0/57 [00:00<?, ?it/s]"
      ]
     },
     "metadata": {},
     "output_type": "display_data"
    },
    {
     "data": {
      "application/vnd.jupyter.widget-view+json": {
       "model_id": "ac30d2235df04d72a02a0d0051b2ba55",
       "version_major": 2,
       "version_minor": 0
      },
      "text/plain": [
       "Polygons for label led:   0%|          | 0/57 [00:00<?, ?it/s]"
      ]
     },
     "metadata": {},
     "output_type": "display_data"
    },
    {
     "data": {
      "application/vnd.jupyter.widget-view+json": {
       "model_id": "45eb829a04d642f98fcca17285f9f7f0",
       "version_major": 2,
       "version_minor": 0
      },
      "text/plain": [
       "Polygons for label worm:   0%|          | 0/58 [00:00<?, ?it/s]"
      ]
     },
     "metadata": {},
     "output_type": "display_data"
    },
    {
     "data": {
      "application/vnd.jupyter.widget-view+json": {
       "model_id": "0c91e17f37a04d89ad30c288af2803f8",
       "version_major": 2,
       "version_minor": 0
      },
      "text/plain": [
       "Polygons for label led:   0%|          | 0/58 [00:00<?, ?it/s]"
      ]
     },
     "metadata": {},
     "output_type": "display_data"
    }
   ],
   "source": [
    "yolo_octron.prepare_labels(\n",
    "                    prune_empty_labels=True, \n",
    "                    min_num_frames=10, \n",
    "                    verbose=False, \n",
    ")\n",
    "yolo_octron.prepare_polygons()\n",
    "yolo_octron.prepare_split(\n",
    "                    training_fraction=0.7,\n",
    "                    validation_fraction=0.15,\n",
    "                    verbose=False,\n",
    ")"
   ]
  },
  {
   "cell_type": "code",
   "execution_count": 9,
   "metadata": {},
   "outputs": [
    {
     "data": {
      "application/vnd.jupyter.widget-view+json": {
       "model_id": "e775f133d2d24cfe85a8ba869444418f",
       "version_major": 2,
       "version_minor": 0
      },
      "text/plain": [
       "Exporting 1 labels:   0%|          | 0/1 [00:00<?, ?it/s]"
      ]
     },
     "metadata": {},
     "output_type": "display_data"
    },
    {
     "data": {
      "application/vnd.jupyter.widget-view+json": {
       "model_id": "09db1ffdcdeb49cbb9a9b0ce6c77b41f",
       "version_major": 2,
       "version_minor": 0
      },
      "text/plain": [
       "Exporting train frames:   0%|          | 0/69 [00:00<?, ?it/s]"
      ]
     },
     "metadata": {},
     "output_type": "display_data"
    },
    {
     "data": {
      "application/vnd.jupyter.widget-view+json": {
       "model_id": "19ed060408394469aad7fb6cc89bd858",
       "version_major": 2,
       "version_minor": 0
      },
      "text/plain": [
       "Exporting val frames:   0%|          | 0/14 [00:00<?, ?it/s]"
      ]
     },
     "metadata": {},
     "output_type": "display_data"
    },
    {
     "data": {
      "application/vnd.jupyter.widget-view+json": {
       "model_id": "e725e0f458c143dcbae4749ff471220e",
       "version_major": 2,
       "version_minor": 0
      },
      "text/plain": [
       "Exporting test frames:   0%|          | 0/16 [00:00<?, ?it/s]"
      ]
     },
     "metadata": {},
     "output_type": "display_data"
    },
    {
     "data": {
      "application/vnd.jupyter.widget-view+json": {
       "model_id": "e8b84726960543de88e238a1c11c479a",
       "version_major": 2,
       "version_minor": 0
      },
      "text/plain": [
       "Exporting 2 labels:   0%|          | 0/2 [00:00<?, ?it/s]"
      ]
     },
     "metadata": {},
     "output_type": "display_data"
    },
    {
     "data": {
      "application/vnd.jupyter.widget-view+json": {
       "model_id": "afdfc747e94e458bb08275616dc2d013",
       "version_major": 2,
       "version_minor": 0
      },
      "text/plain": [
       "Exporting train frames:   0%|          | 0/39 [00:00<?, ?it/s]"
      ]
     },
     "metadata": {},
     "output_type": "display_data"
    },
    {
     "data": {
      "application/vnd.jupyter.widget-view+json": {
       "model_id": "817ffe8714644a9793fe74cb4c71e34c",
       "version_major": 2,
       "version_minor": 0
      },
      "text/plain": [
       "Exporting val frames:   0%|          | 0/8 [00:00<?, ?it/s]"
      ]
     },
     "metadata": {},
     "output_type": "display_data"
    },
    {
     "data": {
      "application/vnd.jupyter.widget-view+json": {
       "model_id": "ece80bc0767e417f96dbe22a4d14aef1",
       "version_major": 2,
       "version_minor": 0
      },
      "text/plain": [
       "Exporting test frames:   0%|          | 0/10 [00:00<?, ?it/s]"
      ]
     },
     "metadata": {},
     "output_type": "display_data"
    },
    {
     "data": {
      "application/vnd.jupyter.widget-view+json": {
       "model_id": "bb4196e344a74da59781c84ead46d868",
       "version_major": 2,
       "version_minor": 0
      },
      "text/plain": [
       "Exporting train frames:   0%|          | 0/39 [00:00<?, ?it/s]"
      ]
     },
     "metadata": {},
     "output_type": "display_data"
    },
    {
     "data": {
      "application/vnd.jupyter.widget-view+json": {
       "model_id": "3f74bdca44cd4896bc6849fb2d4f72c2",
       "version_major": 2,
       "version_minor": 0
      },
      "text/plain": [
       "Exporting val frames:   0%|          | 0/8 [00:00<?, ?it/s]"
      ]
     },
     "metadata": {},
     "output_type": "display_data"
    },
    {
     "data": {
      "application/vnd.jupyter.widget-view+json": {
       "model_id": "c42fe95277fb492791b9ed7305ab954b",
       "version_major": 2,
       "version_minor": 0
      },
      "text/plain": [
       "Exporting test frames:   0%|          | 0/10 [00:00<?, ?it/s]"
      ]
     },
     "metadata": {},
     "output_type": "display_data"
    },
    {
     "data": {
      "application/vnd.jupyter.widget-view+json": {
       "model_id": "2bee9b77f49b4baa9d669a6bf41f2c6f",
       "version_major": 2,
       "version_minor": 0
      },
      "text/plain": [
       "Exporting 2 labels:   0%|          | 0/2 [00:00<?, ?it/s]"
      ]
     },
     "metadata": {},
     "output_type": "display_data"
    },
    {
     "data": {
      "application/vnd.jupyter.widget-view+json": {
       "model_id": "2252420065d542d68e58adc7f9764aec",
       "version_major": 2,
       "version_minor": 0
      },
      "text/plain": [
       "Exporting train frames:   0%|          | 0/40 [00:00<?, ?it/s]"
      ]
     },
     "metadata": {},
     "output_type": "display_data"
    },
    {
     "data": {
      "application/vnd.jupyter.widget-view+json": {
       "model_id": "4820655c071b41baa1cc2606918c2237",
       "version_major": 2,
       "version_minor": 0
      },
      "text/plain": [
       "Exporting val frames:   0%|          | 0/8 [00:00<?, ?it/s]"
      ]
     },
     "metadata": {},
     "output_type": "display_data"
    },
    {
     "data": {
      "application/vnd.jupyter.widget-view+json": {
       "model_id": "57080a48d4644bfda4fbe0d303b2b21a",
       "version_major": 2,
       "version_minor": 0
      },
      "text/plain": [
       "Exporting test frames:   0%|          | 0/10 [00:00<?, ?it/s]"
      ]
     },
     "metadata": {},
     "output_type": "display_data"
    },
    {
     "data": {
      "application/vnd.jupyter.widget-view+json": {
       "model_id": "e4e9f0ad3e7a4be399655b2cd39614d1",
       "version_major": 2,
       "version_minor": 0
      },
      "text/plain": [
       "Exporting train frames:   0%|          | 0/40 [00:00<?, ?it/s]"
      ]
     },
     "metadata": {},
     "output_type": "display_data"
    },
    {
     "data": {
      "application/vnd.jupyter.widget-view+json": {
       "model_id": "8cc5a1a68b1f4a348431a424ee1bf60a",
       "version_major": 2,
       "version_minor": 0
      },
      "text/plain": [
       "Exporting val frames:   0%|          | 0/8 [00:00<?, ?it/s]"
      ]
     },
     "metadata": {},
     "output_type": "display_data"
    },
    {
     "data": {
      "application/vnd.jupyter.widget-view+json": {
       "model_id": "ecafbcd07b4b4a408ac90670d632aad0",
       "version_major": 2,
       "version_minor": 0
      },
      "text/plain": [
       "Exporting test frames:   0%|          | 0/10 [00:00<?, ?it/s]"
      ]
     },
     "metadata": {},
     "output_type": "display_data"
    },
    {
     "name": "stdout",
     "output_type": "stream",
     "text": [
      "Training data exported to /Users/horst/Downloads/octron_project_2/model/training_data\n",
      "YOLO config saved to /Users/horst/Downloads/octron_project_2/model/training_data/yolo_config.yaml\n"
     ]
    }
   ],
   "source": [
    "yolo_octron.create_training_data()\n",
    "yolo_octron.write_yolo_config()"
   ]
  },
  {
   "cell_type": "markdown",
   "metadata": {},
   "source": [
    "## YOLO training"
   ]
  },
  {
   "cell_type": "code",
   "execution_count": 12,
   "metadata": {},
   "outputs": [
    {
     "name": "stdout",
     "output_type": "stream",
     "text": [
      "Model loaded from '/Users/horst/Documents/python/OCTRON/octron/yolo_octron/models/yolo11l-seg.pt'\n"
     ]
    }
   ],
   "source": [
    "_ = yolo_octron.load_model('YOLO11l')"
   ]
  },
  {
   "cell_type": "code",
   "execution_count": 14,
   "metadata": {},
   "outputs": [
    {
     "name": "stdout",
     "output_type": "stream",
     "text": [
      "Starting training for 2 epochs...\n",
      "New https://pypi.org/project/ultralytics/8.3.83 available 😃 Update with 'pip install -U ultralytics'\n",
      "Ultralytics 8.3.81 🚀 Python-3.11.11 torch-2.3.1 CPU (Apple M2 Max)\n",
      "\u001b[34m\u001b[1mengine/trainer: \u001b[0mtask=segment, mode=train, model=/Users/horst/Documents/python/OCTRON/octron/yolo_octron/models/yolo11l-seg.pt, data=/Users/horst/Downloads/octron_project_2/model/training_data/yolo_config.yaml, epochs=2, time=None, patience=100, batch=0.9, imgsz=640, save=True, save_period=15, cache=False, device=cpu, workers=8, project=None, name=training, exist_ok=True, pretrained=True, optimizer=auto, verbose=True, seed=0, deterministic=True, single_cls=False, rect=False, cos_lr=False, close_mosaic=10, resume=False, amp=True, fraction=1.0, profile=False, freeze=None, multi_scale=False, overlap_mask=True, mask_ratio=4, dropout=0.0, val=True, split=val, save_json=False, save_hybrid=False, conf=None, iou=0.7, max_det=300, half=False, dnn=False, plots=True, source=None, vid_stride=1, stream_buffer=False, visualize=False, augment=True, agnostic_nms=False, classes=None, retina_masks=False, embed=None, show=False, save_frames=False, save_txt=False, save_conf=False, save_crop=False, show_labels=True, show_conf=True, show_boxes=True, line_width=None, format=torchscript, keras=False, optimize=False, int8=False, dynamic=False, simplify=True, opset=None, workspace=None, nms=False, lr0=0.01, lrf=0.01, momentum=0.937, weight_decay=0.0005, warmup_epochs=3.0, warmup_momentum=0.8, warmup_bias_lr=0.1, box=7.5, cls=0.5, dfl=1.5, pose=12.0, kobj=1.0, nbs=64, hsv_h=0.015, hsv_s=0.7, hsv_v=0.25, degrees=180, translate=0.1, scale=0.5, shear=2, perspective=0.0, flipud=0.1, fliplr=0.1, bgr=0.0, mosaic=1.0, mixup=0.0, copy_paste=0.5, copy_paste_mode=mixup, auto_augment=randaugment, erasing=0.25, crop_fraction=1.0, cfg=None, tracker=botsort.yaml, save_dir=/Users/horst/Downloads/octron_project_2/model/segment/training\n",
      "Overriding model.yaml nc=80 with nc=2\n",
      "\n",
      "                   from  n    params  module                                       arguments                     \n",
      "  0                  -1  1      1856  ultralytics.nn.modules.conv.Conv             [3, 64, 3, 2]                 \n",
      "  1                  -1  1     73984  ultralytics.nn.modules.conv.Conv             [64, 128, 3, 2]               \n",
      "  2                  -1  2    173824  ultralytics.nn.modules.block.C3k2            [128, 256, 2, True, 0.25]     \n",
      "  3                  -1  1    590336  ultralytics.nn.modules.conv.Conv             [256, 256, 3, 2]              \n",
      "  4                  -1  2    691712  ultralytics.nn.modules.block.C3k2            [256, 512, 2, True, 0.25]     \n",
      "  5                  -1  1   2360320  ultralytics.nn.modules.conv.Conv             [512, 512, 3, 2]              \n",
      "  6                  -1  2   2234368  ultralytics.nn.modules.block.C3k2            [512, 512, 2, True]           \n",
      "  7                  -1  1   2360320  ultralytics.nn.modules.conv.Conv             [512, 512, 3, 2]              \n",
      "  8                  -1  2   2234368  ultralytics.nn.modules.block.C3k2            [512, 512, 2, True]           \n",
      "  9                  -1  1    656896  ultralytics.nn.modules.block.SPPF            [512, 512, 5]                 \n",
      " 10                  -1  2   1455616  ultralytics.nn.modules.block.C2PSA           [512, 512, 2]                 \n",
      " 11                  -1  1         0  torch.nn.modules.upsampling.Upsample         [None, 2, 'nearest']          \n",
      " 12             [-1, 6]  1         0  ultralytics.nn.modules.conv.Concat           [1]                           \n",
      " 13                  -1  2   2496512  ultralytics.nn.modules.block.C3k2            [1024, 512, 2, True]          \n",
      " 14                  -1  1         0  torch.nn.modules.upsampling.Upsample         [None, 2, 'nearest']          \n",
      " 15             [-1, 4]  1         0  ultralytics.nn.modules.conv.Concat           [1]                           \n",
      " 16                  -1  2    756736  ultralytics.nn.modules.block.C3k2            [1024, 256, 2, True]          \n",
      " 17                  -1  1    590336  ultralytics.nn.modules.conv.Conv             [256, 256, 3, 2]              \n",
      " 18            [-1, 13]  1         0  ultralytics.nn.modules.conv.Concat           [1]                           \n",
      " 19                  -1  2   2365440  ultralytics.nn.modules.block.C3k2            [768, 512, 2, True]           \n",
      " 20                  -1  1   2360320  ultralytics.nn.modules.conv.Conv             [512, 512, 3, 2]              \n",
      " 21            [-1, 10]  1         0  ultralytics.nn.modules.conv.Concat           [1]                           \n",
      " 22                  -1  2   2496512  ultralytics.nn.modules.block.C3k2            [1024, 512, 2, True]          \n",
      " 23        [16, 19, 22]  1   3718774  ultralytics.nn.modules.head.Segment          [2, 32, 256, [256, 512, 512]] \n",
      "YOLO11l-seg summary: 379 layers, 27,618,230 parameters, 27,618,214 gradients, 142.7 GFLOPs\n",
      "\n",
      "Transferred 1071/1077 items from pretrained weights\n",
      "\u001b[34m\u001b[1mTensorBoard: \u001b[0mStart with 'tensorboard --logdir /Users/horst/Downloads/octron_project_2/model/segment/training', view at http://localhost:6006/\n",
      "Freezing layer 'model.23.dfl.conv.weight'\n"
     ]
    },
    {
     "name": "stderr",
     "output_type": "stream",
     "text": [
      "\u001b[34m\u001b[1mtrain: \u001b[0mScanning /Users/horst/Downloads/octron_project_2/model/training_data/train... 148 images, 0 backgrounds, 0 corrupt: 100%|██████████| 148/148 [00:00<00:00, 2240.63it/s]"
     ]
    },
    {
     "name": "stdout",
     "output_type": "stream",
     "text": [
      "\u001b[34m\u001b[1mtrain: \u001b[0mNew cache created: /Users/horst/Downloads/octron_project_2/model/training_data/train.cache\n",
      "\u001b[34m\u001b[1mAutoBatch: \u001b[0mComputing optimal batch size for imgsz=640 at 90.0% CUDA memory utilization.\n",
      "\u001b[34m\u001b[1mAutoBatch: \u001b[0m ⚠️ intended for CUDA devices, using default batch-size 16\n"
     ]
    },
    {
     "name": "stderr",
     "output_type": "stream",
     "text": [
      "\n",
      "\u001b[34m\u001b[1mtrain: \u001b[0mScanning /Users/horst/Downloads/octron_project_2/model/training_data/train.cache... 148 images, 0 backgrounds, 0 corrupt: 100%|██████████| 148/148 [00:00<?, ?it/s]\n",
      "\u001b[34m\u001b[1mval: \u001b[0mScanning /Users/horst/Downloads/octron_project_2/model/training_data/val... 30 images, 0 backgrounds, 0 corrupt: 100%|██████████| 30/30 [00:00<00:00, 2250.04it/s]"
     ]
    },
    {
     "name": "stdout",
     "output_type": "stream",
     "text": [
      "\u001b[34m\u001b[1mval: \u001b[0mNew cache created: /Users/horst/Downloads/octron_project_2/model/training_data/val.cache\n"
     ]
    },
    {
     "name": "stderr",
     "output_type": "stream",
     "text": [
      "\n"
     ]
    },
    {
     "name": "stdout",
     "output_type": "stream",
     "text": [
      "Plotting labels to /Users/horst/Downloads/octron_project_2/model/segment/training/labels.jpg... \n",
      "\u001b[34m\u001b[1moptimizer:\u001b[0m 'optimizer=auto' found, ignoring 'lr0=0.01' and 'momentum=0.937' and determining best 'optimizer', 'lr0' and 'momentum' automatically... \n",
      "\u001b[34m\u001b[1moptimizer:\u001b[0m AdamW(lr=0.001667, momentum=0.9) with parameter groups 176 weight(decay=0.0), 187 weight(decay=0.0005), 186 bias(decay=0.0)\n",
      "\u001b[34m\u001b[1mTensorBoard: \u001b[0mmodel graph visualization added ✅\n",
      "Image sizes 640 train, 640 val\n",
      "Using 0 dataloader workers\n",
      "Logging results to \u001b[1m/Users/horst/Downloads/octron_project_2/model/segment/training\u001b[0m\n",
      "Starting training for 2 epochs...\n",
      "\n",
      "      Epoch    GPU_mem   box_loss   seg_loss   cls_loss   dfl_loss  Instances       Size\n"
     ]
    },
    {
     "name": "stderr",
     "output_type": "stream",
     "text": [
      "        1/2         0G     0.7667      1.156      2.249     0.9015          9        640: 100%|██████████| 10/10 [05:28<00:00, 32.81s/it]\n",
      "                 Class     Images  Instances      Box(P          R      mAP50  mAP50-95)     Mask(P          R      mAP50  mAP50-95): 100%|██████████| 1/1 [00:30<00:00, 30.80s/it]"
     ]
    },
    {
     "name": "stdout",
     "output_type": "stream",
     "text": [
      "                   all         30         62      0.976        0.3      0.367      0.318      0.974      0.307      0.364      0.298\n"
     ]
    },
    {
     "name": "stderr",
     "output_type": "stream",
     "text": [
      "\n",
      "/Users/horst/miniconda3/envs/sam2/lib/python3.11/site-packages/ultralytics/utils/metrics.py:529: DeprecationWarning: `trapz` is deprecated. Use `trapezoid` instead, or one of the numerical integration functions in `scipy.integrate`.\n",
      "  ap = np.trapz(np.interp(x, mrec, mpre), x)  # integrate\n"
     ]
    },
    {
     "name": "stdout",
     "output_type": "stream",
     "text": [
      "\n",
      "      Epoch    GPU_mem   box_loss   seg_loss   cls_loss   dfl_loss  Instances       Size\n"
     ]
    },
    {
     "name": "stderr",
     "output_type": "stream",
     "text": [
      "        2/2         0G     0.7639     0.9746     0.8407     0.8906         22        640: 100%|██████████| 10/10 [05:29<00:00, 32.91s/it]\n",
      "                 Class     Images  Instances      Box(P          R      mAP50  mAP50-95)     Mask(P          R      mAP50  mAP50-95): 100%|██████████| 1/1 [00:30<00:00, 30.52s/it]"
     ]
    },
    {
     "name": "stdout",
     "output_type": "stream",
     "text": [
      "                   all         30         62       0.47      0.383      0.415      0.371      0.491        0.4      0.427      0.325\n"
     ]
    },
    {
     "name": "stderr",
     "output_type": "stream",
     "text": [
      "\n",
      "/Users/horst/miniconda3/envs/sam2/lib/python3.11/site-packages/ultralytics/utils/metrics.py:529: DeprecationWarning: `trapz` is deprecated. Use `trapezoid` instead, or one of the numerical integration functions in `scipy.integrate`.\n",
      "  ap = np.trapz(np.interp(x, mrec, mpre), x)  # integrate\n"
     ]
    },
    {
     "name": "stdout",
     "output_type": "stream",
     "text": [
      "\n",
      "2 epochs completed in 0.202 hours.\n",
      "Optimizer stripped from /Users/horst/Downloads/octron_project_2/model/segment/training/weights/last.pt, 55.8MB\n",
      "Optimizer stripped from /Users/horst/Downloads/octron_project_2/model/segment/training/weights/best.pt, 55.8MB\n",
      "\n",
      "Validating /Users/horst/Downloads/octron_project_2/model/segment/training/weights/best.pt...\n",
      "Ultralytics 8.3.81 🚀 Python-3.11.11 torch-2.3.1 CPU (Apple M2 Max)\n",
      "YOLO11l-seg summary (fused): 203 layers, 27,586,134 parameters, 0 gradients, 141.9 GFLOPs\n"
     ]
    },
    {
     "name": "stderr",
     "output_type": "stream",
     "text": [
      "                 Class     Images  Instances      Box(P          R      mAP50  mAP50-95)     Mask(P          R      mAP50  mAP50-95):   0%|          | 0/1 [00:00<?, ?it/s]"
     ]
    },
    {
     "name": "stdout",
     "output_type": "stream",
     "text": [
      "WARNING ⚠️ Model does not support 'augment=True', reverting to single-scale prediction.\n"
     ]
    },
    {
     "name": "stderr",
     "output_type": "stream",
     "text": [
      "                 Class     Images  Instances      Box(P          R      mAP50  mAP50-95)     Mask(P          R      mAP50  mAP50-95): 100%|██████████| 1/1 [00:29<00:00, 29.46s/it]\n",
      "/Users/horst/miniconda3/envs/sam2/lib/python3.11/site-packages/ultralytics/utils/metrics.py:529: DeprecationWarning: `trapz` is deprecated. Use `trapezoid` instead, or one of the numerical integration functions in `scipy.integrate`.\n",
      "  ap = np.trapz(np.interp(x, mrec, mpre), x)  # integrate\n",
      "/Users/horst/miniconda3/envs/sam2/lib/python3.11/site-packages/ultralytics/utils/metrics.py:529: DeprecationWarning: `trapz` is deprecated. Use `trapezoid` instead, or one of the numerical integration functions in `scipy.integrate`.\n",
      "  ap = np.trapz(np.interp(x, mrec, mpre), x)  # integrate\n"
     ]
    },
    {
     "name": "stdout",
     "output_type": "stream",
     "text": [
      "                   all         30         62       0.47      0.383      0.414      0.371      0.491        0.4      0.426      0.326\n",
      "                  worm         30         30       0.94      0.767      0.811      0.728      0.981        0.8      0.835       0.64\n",
      "                   led         16         32          0          0     0.0177      0.013          0          0     0.0177     0.0115\n",
      "Speed: 0.4ms preprocess, 956.6ms inference, 0.0ms loss, 3.8ms postprocess per image\n",
      "Results saved to \u001b[1m/Users/horst/Downloads/octron_project_2/model/segment/training\u001b[0m\n",
      "Training complete!\n"
     ]
    }
   ],
   "source": [
    "train_results = yolo_octron.train(epochs=2)"
   ]
  },
  {
   "cell_type": "code",
   "execution_count": 19,
   "metadata": {},
   "outputs": [
    {
     "data": {
      "text/plain": [
       "{'metrics/precision(B)': np.float64(0.47002649135890207),\n",
       " 'metrics/recall(B)': np.float64(0.38333333333333336),\n",
       " 'metrics/mAP50(B)': np.float64(0.4144580676558437),\n",
       " 'metrics/mAP50-95(B)': np.float64(0.37051988237039024),\n",
       " 'metrics/precision(M)': np.float64(0.4907221901854229),\n",
       " 'metrics/recall(M)': np.float64(0.4),\n",
       " 'metrics/mAP50(M)': np.float64(0.4263330676558436),\n",
       " 'metrics/mAP50-95(M)': np.float64(0.3256840428133994),\n",
       " 'fitness': np.float64(0.7106626461965795)}"
      ]
     },
     "execution_count": 19,
     "metadata": {},
     "output_type": "execute_result"
    }
   ],
   "source": [
    "train_results.results_dict"
   ]
  },
  {
   "cell_type": "code",
   "execution_count": null,
   "metadata": {},
   "outputs": [],
   "source": []
  },
  {
   "cell_type": "code",
   "execution_count": null,
   "metadata": {},
   "outputs": [],
   "source": [
    "# # Load a model\n",
    "# import time\n",
    "# def on_train_start(trainer):\n",
    "#     print(\"🥳  Training is starting!\")\n",
    "\n",
    "# def on_fit_epoch_end(trainer):\n",
    "#     current_epoch = trainer.epoch + 1 \n",
    "#     time_epoch = trainer.epoch_time\n",
    "#     print(f\"Time for epoch: {time_epoch}\")\n",
    "#     remaining_time = time_epoch * (no_epochs - current_epoch)   \n",
    "#     finish_time = time.time() + remaining_time\n",
    "#     print(f\"Estimated time remaining: {remaining_time} seconds\")    \n",
    "#     print(f'Estimated finish time: {time.ctime(finish_time)}')  \n",
    "    \n",
    "# model = YOLO(path_to_model)  # load a pretrained model (recommended for training)\n",
    "# model.add_callback(\"on_train_start\", on_train_start)\n",
    "# model.add_callback(\"on_fit_epoch_end\", on_fit_epoch_end)\n",
    "# no_epochs = 30\n",
    "\n",
    "# # Train the model\n",
    "# # https://docs.ultralytics.com/usage/cfg/#solutions-settings\n",
    "# # results = model.train(data=config_path, \n",
    "# #                       save_dir=path_to_training.as_posix(),\n",
    "# #                       name='training',\n",
    "# #                       mode='segment',\n",
    "# #                       device='cpu',\n",
    "# #                       mask_ratio=4,\n",
    "# #                       epochs=no_epochs,\n",
    "# #                       imgsz=640,\n",
    "# #                       resume=False,\n",
    "# #                       plots=True,\n",
    "# #                       batch=.9,\n",
    "# #                       cache=False,\n",
    "# #                       save=True,\n",
    "# #                       save_period=15,\n",
    "# #                       project=None,\n",
    "# #                       exist_ok=True,\n",
    "# #                       # augmentation\n",
    "# #                       augment=True,\n",
    "# #                       hsv_v=.25,\n",
    "# #                       degrees=180,\n",
    "# #                       scale=.5,\n",
    "# #                       shear=2,\n",
    "# #                       flipud=.1,\n",
    "# #                       fliplr=.1,\n",
    "# #                       mosaic=1.0,\n",
    "# #                       copy_paste=.5,\n",
    "# #                       copy_paste_mode='mixup', \n",
    "# #                       erasing=.25,\n",
    "# #                       crop_fraction=1.0,\n",
    "# #                       )"
   ]
  },
  {
   "cell_type": "code",
   "execution_count": null,
   "metadata": {},
   "outputs": [],
   "source": [
    "# model = YOLO('/Users/horst/Downloads/octron_project/octron_training/yolo runs/segment/train/weights/last.pt')  #"
   ]
  },
  {
   "cell_type": "code",
   "execution_count": null,
   "metadata": {},
   "outputs": [],
   "source": [
    "# metrics = model.val(device='cpu', plots=True)"
   ]
  },
  {
   "cell_type": "code",
   "execution_count": null,
   "metadata": {},
   "outputs": [],
   "source": []
  }
 ],
 "metadata": {
  "kernelspec": {
   "display_name": "sam2",
   "language": "python",
   "name": "python3"
  },
  "language_info": {
   "codemirror_mode": {
    "name": "ipython",
    "version": 3
   },
   "file_extension": ".py",
   "mimetype": "text/x-python",
   "name": "python",
   "nbconvert_exporter": "python",
   "pygments_lexer": "ipython3",
   "version": "3.11.11"
  }
 },
 "nbformat": 4,
 "nbformat_minor": 2
}

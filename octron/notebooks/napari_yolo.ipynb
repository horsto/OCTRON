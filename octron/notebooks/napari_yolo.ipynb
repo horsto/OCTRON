{
 "cells": [
  {
   "cell_type": "markdown",
   "metadata": {
    "vscode": {
     "languageId": "plaintext"
    }
   },
   "source": [
    "## Yolo11 tests"
   ]
  },
  {
   "cell_type": "code",
   "execution_count": 1,
   "metadata": {},
   "outputs": [],
   "source": [
    "%load_ext autoreload\n",
    "%autoreload 2"
   ]
  },
  {
   "cell_type": "code",
   "execution_count": null,
   "metadata": {},
   "outputs": [],
   "source": [
    "import os , sys\n",
    "sys.path.append('..')\n",
    "from pathlib import Path\n",
    "cur_path = Path(os.getcwd()).parent\n",
    "sam2_path = cur_path / 'sam2_octron'\n",
    "sys.path.append(cur_path.as_posix())\n",
    "from matplotlib import pyplot as plt\n",
    "import cmasher as cmr\n",
    "import numpy as np\n",
    "import seaborn as sns\n",
    "sns.set_theme(style='white')\n",
    "%config InlineBackend.figure_format = 'retina'"
   ]
  },
  {
   "cell_type": "code",
   "execution_count": 3,
   "metadata": {},
   "outputs": [],
   "source": [
    "from octron.yolo_octron.yolo_octron import YOLO_octron"
   ]
  },
  {
   "cell_type": "code",
   "execution_count": 4,
   "metadata": {},
   "outputs": [],
   "source": [
    "# Presaved model (YOLOv11)\n",
    "path_to_model = Path('/Users/horst/Documents/python/OCTRON/octron/yolo_octron/yolo11l-seg.pt')\n",
    "project_path = Path('/Users/horst/Downloads/octron_project_2')\n",
    "assert project_path.exists()\n",
    "assert path_to_model.exists()"
   ]
  },
  {
   "cell_type": "markdown",
   "metadata": {},
   "source": [
    "### Find out what info is present across object organizers / ..."
   ]
  },
  {
   "cell_type": "markdown",
   "metadata": {},
   "source": [
    "- Construct a nice loop that finds the zarr, video files, and compares video file hashes \n"
   ]
  },
  {
   "cell_type": "code",
   "execution_count": 5,
   "metadata": {},
   "outputs": [
    {
     "data": {
      "text/plain": [
       "PosixPath('/Users/horst/Downloads/octron_project_2')"
      ]
     },
     "execution_count": 5,
     "metadata": {},
     "output_type": "execute_result"
    }
   ],
   "source": [
    "project_path"
   ]
  },
  {
   "cell_type": "code",
   "execution_count": 6,
   "metadata": {},
   "outputs": [
    {
     "name": "stdout",
     "output_type": "stream",
     "text": [
      "YOLO Octron initialized with project: '/Users/horst/Downloads/octron_project_2'\n",
      "Model path: '/Users/horst/Documents/python/OCTRON/octron/yolo_octron/yolo11l-seg.pt'\n"
     ]
    }
   ],
   "source": [
    "yolo_octron = YOLO_octron(project_path=project_path,\n",
    "                          model_path=path_to_model\n",
    "                          )"
   ]
  },
  {
   "cell_type": "code",
   "execution_count": 7,
   "metadata": {},
   "outputs": [
    {
     "name": "stdout",
     "output_type": "stream",
     "text": [
      "📖 Octron object organizer loaded from /Users/horst/Downloads/octron_project_2/f080acc6/object_organizer.json\n",
      "📖 Octron object organizer loaded from /Users/horst/Downloads/octron_project_2/7c724296/object_organizer.json\n",
      "📖 Octron object organizer loaded from /Users/horst/Downloads/octron_project_2/c22c039f/object_organizer.json\n"
     ]
    },
    {
     "data": {
      "application/vnd.jupyter.widget-view+json": {
       "model_id": "958021002ca8493a8f9c3cc75a477934",
       "version_major": 2,
       "version_minor": 0
      },
      "text/plain": [
       "Polygons for label worm:   0%|          | 0/99 [00:00<?, ?it/s]"
      ]
     },
     "metadata": {},
     "output_type": "display_data"
    },
    {
     "data": {
      "application/vnd.jupyter.widget-view+json": {
       "model_id": "73b9951248c84e2989146d91915e1316",
       "version_major": 2,
       "version_minor": 0
      },
      "text/plain": [
       "Polygons for label worm:   0%|          | 0/57 [00:00<?, ?it/s]"
      ]
     },
     "metadata": {},
     "output_type": "display_data"
    },
    {
     "data": {
      "application/vnd.jupyter.widget-view+json": {
       "model_id": "1ff86fd307c14373a5ede7c846f195b6",
       "version_major": 2,
       "version_minor": 0
      },
      "text/plain": [
       "Polygons for label led:   0%|          | 0/57 [00:00<?, ?it/s]"
      ]
     },
     "metadata": {},
     "output_type": "display_data"
    },
    {
     "data": {
      "application/vnd.jupyter.widget-view+json": {
       "model_id": "bef4cd631ba942899fb49938c5068fac",
       "version_major": 2,
       "version_minor": 0
      },
      "text/plain": [
       "Polygons for label worm:   0%|          | 0/58 [00:00<?, ?it/s]"
      ]
     },
     "metadata": {},
     "output_type": "display_data"
    },
    {
     "data": {
      "application/vnd.jupyter.widget-view+json": {
       "model_id": "da5893b3dd834f2680a238841b64618d",
       "version_major": 2,
       "version_minor": 0
      },
      "text/plain": [
       "Polygons for label led:   0%|          | 0/58 [00:00<?, ?it/s]"
      ]
     },
     "metadata": {},
     "output_type": "display_data"
    }
   ],
   "source": [
    "yolo_octron.prepare_labels(\n",
    "                           prune_empty_labels=True, \n",
    "                           min_num_frames=10, \n",
    "                           verbose=False, \n",
    ")\n",
    "yolo_octron.prepare_polygons()\n",
    "yolo_octron.prepare_split(\n",
    "                      training_fraction=0.7,\n",
    "                      validation_fraction=0.15,\n",
    "                      verbose=False,\n",
    ")"
   ]
  },
  {
   "cell_type": "code",
   "execution_count": 8,
   "metadata": {},
   "outputs": [
    {
     "data": {
      "application/vnd.jupyter.widget-view+json": {
       "model_id": "bf5b10999e43434393001b5a727662d9",
       "version_major": 2,
       "version_minor": 0
      },
      "text/plain": [
       "Exporting 1 labels:   0%|          | 0/1 [00:00<?, ?it/s]"
      ]
     },
     "metadata": {},
     "output_type": "display_data"
    },
    {
     "data": {
      "application/vnd.jupyter.widget-view+json": {
       "model_id": "8a9714e274e141869b93b2e2e72e95a2",
       "version_major": 2,
       "version_minor": 0
      },
      "text/plain": [
       "Exporting train frames:   0%|          | 0/69 [00:00<?, ?it/s]"
      ]
     },
     "metadata": {},
     "output_type": "display_data"
    },
    {
     "data": {
      "application/vnd.jupyter.widget-view+json": {
       "model_id": "9d4fc3e86ad1486c806ef998c3cea116",
       "version_major": 2,
       "version_minor": 0
      },
      "text/plain": [
       "Exporting val frames:   0%|          | 0/14 [00:00<?, ?it/s]"
      ]
     },
     "metadata": {},
     "output_type": "display_data"
    },
    {
     "data": {
      "application/vnd.jupyter.widget-view+json": {
       "model_id": "f8cd9388831a4e809026aead1147d547",
       "version_major": 2,
       "version_minor": 0
      },
      "text/plain": [
       "Exporting test frames:   0%|          | 0/16 [00:00<?, ?it/s]"
      ]
     },
     "metadata": {},
     "output_type": "display_data"
    },
    {
     "data": {
      "application/vnd.jupyter.widget-view+json": {
       "model_id": "6038c79157d54d7bbe9a37d8ce281693",
       "version_major": 2,
       "version_minor": 0
      },
      "text/plain": [
       "Exporting 2 labels:   0%|          | 0/2 [00:00<?, ?it/s]"
      ]
     },
     "metadata": {},
     "output_type": "display_data"
    },
    {
     "data": {
      "application/vnd.jupyter.widget-view+json": {
       "model_id": "d8a2e2a7af234c7f96764e21cfc1f53d",
       "version_major": 2,
       "version_minor": 0
      },
      "text/plain": [
       "Exporting train frames:   0%|          | 0/39 [00:00<?, ?it/s]"
      ]
     },
     "metadata": {},
     "output_type": "display_data"
    },
    {
     "data": {
      "application/vnd.jupyter.widget-view+json": {
       "model_id": "7198de4c46534e37b691807f27696221",
       "version_major": 2,
       "version_minor": 0
      },
      "text/plain": [
       "Exporting val frames:   0%|          | 0/8 [00:00<?, ?it/s]"
      ]
     },
     "metadata": {},
     "output_type": "display_data"
    },
    {
     "data": {
      "application/vnd.jupyter.widget-view+json": {
       "model_id": "438eab7feccc4642bf1d159677410485",
       "version_major": 2,
       "version_minor": 0
      },
      "text/plain": [
       "Exporting test frames:   0%|          | 0/10 [00:00<?, ?it/s]"
      ]
     },
     "metadata": {},
     "output_type": "display_data"
    },
    {
     "data": {
      "application/vnd.jupyter.widget-view+json": {
       "model_id": "1b4e0b0f0e464112819a6b9bb7f61c8c",
       "version_major": 2,
       "version_minor": 0
      },
      "text/plain": [
       "Exporting train frames:   0%|          | 0/39 [00:00<?, ?it/s]"
      ]
     },
     "metadata": {},
     "output_type": "display_data"
    },
    {
     "data": {
      "application/vnd.jupyter.widget-view+json": {
       "model_id": "91a6194618f94023ad236a3942150812",
       "version_major": 2,
       "version_minor": 0
      },
      "text/plain": [
       "Exporting val frames:   0%|          | 0/8 [00:00<?, ?it/s]"
      ]
     },
     "metadata": {},
     "output_type": "display_data"
    },
    {
     "data": {
      "application/vnd.jupyter.widget-view+json": {
       "model_id": "356ea7dbd0f14774995a78283784d118",
       "version_major": 2,
       "version_minor": 0
      },
      "text/plain": [
       "Exporting test frames:   0%|          | 0/10 [00:00<?, ?it/s]"
      ]
     },
     "metadata": {},
     "output_type": "display_data"
    },
    {
     "data": {
      "application/vnd.jupyter.widget-view+json": {
       "model_id": "9a546a9411064cba92ca5d06796f0e19",
       "version_major": 2,
       "version_minor": 0
      },
      "text/plain": [
       "Exporting 2 labels:   0%|          | 0/2 [00:00<?, ?it/s]"
      ]
     },
     "metadata": {},
     "output_type": "display_data"
    },
    {
     "data": {
      "application/vnd.jupyter.widget-view+json": {
       "model_id": "2906f99912c745e88f8ee2557385fd1a",
       "version_major": 2,
       "version_minor": 0
      },
      "text/plain": [
       "Exporting train frames:   0%|          | 0/40 [00:00<?, ?it/s]"
      ]
     },
     "metadata": {},
     "output_type": "display_data"
    },
    {
     "data": {
      "application/vnd.jupyter.widget-view+json": {
       "model_id": "7db878b1a5294b50a616e2e2cef4863a",
       "version_major": 2,
       "version_minor": 0
      },
      "text/plain": [
       "Exporting val frames:   0%|          | 0/8 [00:00<?, ?it/s]"
      ]
     },
     "metadata": {},
     "output_type": "display_data"
    },
    {
     "data": {
      "application/vnd.jupyter.widget-view+json": {
       "model_id": "b5b34fba9dfe4dbfb9ccfdb34c4363d9",
       "version_major": 2,
       "version_minor": 0
      },
      "text/plain": [
       "Exporting test frames:   0%|          | 0/10 [00:00<?, ?it/s]"
      ]
     },
     "metadata": {},
     "output_type": "display_data"
    },
    {
     "data": {
      "application/vnd.jupyter.widget-view+json": {
       "model_id": "e6692ef9e7f64f0685c4b711011ee3ce",
       "version_major": 2,
       "version_minor": 0
      },
      "text/plain": [
       "Exporting train frames:   0%|          | 0/40 [00:00<?, ?it/s]"
      ]
     },
     "metadata": {},
     "output_type": "display_data"
    },
    {
     "data": {
      "application/vnd.jupyter.widget-view+json": {
       "model_id": "8b681b220a63481ba87c78c32083324f",
       "version_major": 2,
       "version_minor": 0
      },
      "text/plain": [
       "Exporting val frames:   0%|          | 0/8 [00:00<?, ?it/s]"
      ]
     },
     "metadata": {},
     "output_type": "display_data"
    },
    {
     "data": {
      "application/vnd.jupyter.widget-view+json": {
       "model_id": "b53a92af829b4a1185c1eb7e86adbf28",
       "version_major": 2,
       "version_minor": 0
      },
      "text/plain": [
       "Exporting test frames:   0%|          | 0/10 [00:00<?, ?it/s]"
      ]
     },
     "metadata": {},
     "output_type": "display_data"
    },
    {
     "name": "stdout",
     "output_type": "stream",
     "text": [
      "Training data exported to /Users/horst/Downloads/octron_project_2/model/training_data\n"
     ]
    }
   ],
   "source": [
    "yolo_octron.create_training_data()"
   ]
  },
  {
   "cell_type": "code",
   "execution_count": 14,
   "metadata": {},
   "outputs": [
    {
     "name": "stdout",
     "output_type": "stream",
     "text": [
      "YOLO config saved to /Users/horst/Downloads/octron_project_2/model/training_data/yolo_config.yaml\n"
     ]
    }
   ],
   "source": [
    "yolo_octron.write_yolo_config()"
   ]
  },
  {
   "cell_type": "markdown",
   "metadata": {},
   "source": [
    "## YOLO training"
   ]
  },
  {
   "cell_type": "code",
   "execution_count": 10,
   "metadata": {},
   "outputs": [],
   "source": [
    "# from ultralytics import settings\n",
    "# settings.update({'sync':False,'hub':False,'runs_dir':path_to_training.as_posix()})\n",
    "# from ultralytics import YOLO"
   ]
  },
  {
   "cell_type": "code",
   "execution_count": 11,
   "metadata": {},
   "outputs": [],
   "source": [
    "# # Load a model\n",
    "# import time\n",
    "# def on_train_start(trainer):\n",
    "#     print(\"🥳  Training is starting!\")\n",
    "\n",
    "# def on_fit_epoch_end(trainer):\n",
    "#     current_epoch = trainer.epoch + 1 \n",
    "#     time_epoch = trainer.epoch_time\n",
    "#     print(f\"Time for epoch: {time_epoch}\")\n",
    "#     remaining_time = time_epoch * (no_epochs - current_epoch)   \n",
    "#     finish_time = time.time() + remaining_time\n",
    "#     print(f\"Estimated time remaining: {remaining_time} seconds\")    \n",
    "#     print(f'Estimated finish time: {time.ctime(finish_time)}')  \n",
    "    \n",
    "# model = YOLO(path_to_model)  # load a pretrained model (recommended for training)\n",
    "# model.add_callback(\"on_train_start\", on_train_start)\n",
    "# model.add_callback(\"on_fit_epoch_end\", on_fit_epoch_end)\n",
    "# no_epochs = 30\n",
    "\n",
    "# # Train the model\n",
    "# # https://docs.ultralytics.com/usage/cfg/#solutions-settings\n",
    "# # results = model.train(data=config_path, \n",
    "# #                       save_dir=path_to_training.as_posix(),\n",
    "# #                       name='training',\n",
    "# #                       mode='segment',\n",
    "# #                       device='cpu',\n",
    "# #                       mask_ratio=4,\n",
    "# #                       epochs=no_epochs,\n",
    "# #                       imgsz=640,\n",
    "# #                       resume=False,\n",
    "# #                       plots=True,\n",
    "# #                       batch=.9,\n",
    "# #                       cache=False,\n",
    "# #                       save=True,\n",
    "# #                       save_period=15,\n",
    "# #                       project=None,\n",
    "# #                       exist_ok=True,\n",
    "# #                       # augmentation\n",
    "# #                       augment=True,\n",
    "# #                       hsv_v=.25,\n",
    "# #                       degrees=180,\n",
    "# #                       scale=.5,\n",
    "# #                       shear=2,\n",
    "# #                       flipud=.1,\n",
    "# #                       fliplr=.1,\n",
    "# #                       mosaic=1.0,\n",
    "# #                       copy_paste=.5,\n",
    "# #                       copy_paste_mode='mixup', \n",
    "# #                       erasing=.25,\n",
    "# #                       crop_fraction=1.0,\n",
    "# #                       )"
   ]
  },
  {
   "cell_type": "code",
   "execution_count": 12,
   "metadata": {},
   "outputs": [],
   "source": [
    "# model = YOLO('/Users/horst/Downloads/octron_project/octron_training/yolo runs/segment/train/weights/last.pt')  #"
   ]
  },
  {
   "cell_type": "code",
   "execution_count": 13,
   "metadata": {},
   "outputs": [],
   "source": [
    "# metrics = model.val(device='cpu', plots=True)"
   ]
  },
  {
   "cell_type": "code",
   "execution_count": null,
   "metadata": {},
   "outputs": [],
   "source": []
  }
 ],
 "metadata": {
  "kernelspec": {
   "display_name": "sam2",
   "language": "python",
   "name": "python3"
  },
  "language_info": {
   "codemirror_mode": {
    "name": "ipython",
    "version": 3
   },
   "file_extension": ".py",
   "mimetype": "text/x-python",
   "name": "python",
   "nbconvert_exporter": "python",
   "pygments_lexer": "ipython3",
   "version": "3.11.11"
  }
 },
 "nbformat": 4,
 "nbformat_minor": 2
}

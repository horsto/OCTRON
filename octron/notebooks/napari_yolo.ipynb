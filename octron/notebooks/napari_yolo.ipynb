{
 "cells": [
  {
   "cell_type": "markdown",
   "metadata": {
    "vscode": {
     "languageId": "plaintext"
    }
   },
   "source": [
    "## Yolo11 tests"
   ]
  },
  {
   "cell_type": "code",
   "execution_count": 1,
   "metadata": {},
   "outputs": [],
   "source": [
    "%load_ext autoreload\n",
    "%autoreload 2"
   ]
  },
  {
   "cell_type": "code",
   "execution_count": 2,
   "metadata": {},
   "outputs": [],
   "source": [
    "import os , sys\n",
    "sys.path.append('..')\n",
    "from pathlib import Path\n",
    "cur_path = Path(os.getcwd()).parent\n",
    "sam2_path = cur_path / 'sam2_octron'\n",
    "sys.path.append(cur_path.as_posix())\n",
    "from matplotlib import pyplot as plt\n",
    "import cmasher as cmr\n",
    "import numpy as np\n",
    "import seaborn as sns\n",
    "sns.set_theme(style='white')\n",
    "%config InlineBackend.figure_format = 'retina'"
   ]
  },
  {
   "cell_type": "code",
   "execution_count": 5,
   "metadata": {},
   "outputs": [],
   "source": [
    "from octron.yolo_octron.yolo_octron import YOLO_octron\n",
    "from octron.yolo_octron.helpers.yolo_checks import check_yolo_models\n",
    "from octron.yolo_octron.helpers.training import collect_labels"
   ]
  },
  {
   "cell_type": "code",
   "execution_count": 4,
   "metadata": {},
   "outputs": [],
   "source": [
    "base_path = Path('/Users/horst/Documents/python/OCTRON/octron/notebooks').parent\n",
    "models_yaml_path = base_path / 'yolo_octron/yolo_models.yaml'\n",
    "\n",
    "project_path = Path('/Users/horst/Downloads/octron_project_2')\n",
    "assert project_path.exists()"
   ]
  },
  {
   "cell_type": "markdown",
   "metadata": {},
   "source": [
    "### Organize training data "
   ]
  },
  {
   "cell_type": "code",
   "execution_count": 7,
   "metadata": {},
   "outputs": [
    {
     "name": "stdout",
     "output_type": "stream",
     "text": [
      "📖 Octron object organizer loaded from /Users/horst/Downloads/octron_project_2/f080acc6/object_organizer.json\n",
      "📖 Octron object organizer loaded from /Users/horst/Downloads/octron_project_2/7c724296/object_organizer.json\n",
      "📖 Octron object organizer loaded from /Users/horst/Downloads/octron_project_2/c22c039f/object_organizer.json\n"
     ]
    },
    {
     "data": {
      "text/plain": [
       "{'/Users/horst/Downloads/octron_project_2/f080acc6': {0: {'label': 'worm',\n",
       "   'frames': array([  0,   1,   2,   3,   4,   5,   6,   7,   8,   9,  10,  11,  12,\n",
       "           13,  14,  15,  16,  17,  18,  19, 165, 166, 167, 168, 169, 170,\n",
       "          171, 172, 173, 174, 175, 176, 177, 178, 179, 180, 181, 182, 183,\n",
       "          184, 427, 428, 429, 430, 431, 432, 433, 434, 435, 436, 437, 438,\n",
       "          439, 440, 441, 442, 443, 444, 445, 446, 447, 448, 449, 450, 451,\n",
       "          452, 453, 454, 455, 456, 457, 458, 459, 460, 461, 462, 463, 464,\n",
       "          465, 711, 712, 713, 714, 715, 716, 717, 718, 719, 720, 721, 722,\n",
       "          723, 724, 725, 726, 727, 728, 729, 730]),\n",
       "   'masks': [<Array file:///Users/horst/Downloads/octron_project_2/f080acc6/worm masks.zarr/masks shape=(2036, 1000, 1000) dtype=int8>],\n",
       "   'color': [0.5647058823529412,\n",
       "    0.054901960784313725,\n",
       "    0.6470588235294118,\n",
       "    1.0]},\n",
       "  'video': <napari_pyav._reader.FastVideoReader at 0x30dd4bdd0>},\n",
       " '/Users/horst/Downloads/octron_project_2/7c724296': {0: {'label': 'worm',\n",
       "   'frames': array([ 0,  1,  2,  3,  4,  5,  6,  7,  8,  9, 10, 11, 12, 13, 14, 15, 16,\n",
       "          17, 18, 19, 20, 21, 22, 23, 24, 25, 26, 27, 28, 29, 30, 31, 32, 33,\n",
       "          34, 35, 36, 37, 38, 39, 40, 41, 42, 43, 44, 45, 46, 47, 48, 49, 50,\n",
       "          51, 52, 53, 54, 55, 56]),\n",
       "   'masks': [<Array file:///Users/horst/Downloads/octron_project_2/7c724296/worm masks.zarr/masks shape=(210, 1000, 1000) dtype=int8>],\n",
       "   'color': [0.5647058823529412,\n",
       "    0.054901960784313725,\n",
       "    0.6470588235294118,\n",
       "    1.0]},\n",
       "  1: {'label': 'led',\n",
       "   'frames': array([ 0,  1,  2,  3,  4,  5,  6,  7,  8,  9, 10, 11, 12, 13, 14, 15, 16,\n",
       "          17, 18, 19, 20, 21, 22, 23, 24, 25, 26, 27, 28, 29, 30, 31, 32, 33,\n",
       "          34, 35, 36, 37, 38, 39, 40, 41, 42, 43, 44, 45, 46, 47, 48, 49, 50,\n",
       "          51, 52, 53, 54, 55, 56]),\n",
       "   'masks': [<Array file:///Users/horst/Downloads/octron_project_2/7c724296/led 1 masks.zarr/masks shape=(210, 1000, 1000) dtype=int8>,\n",
       "    <Array file:///Users/horst/Downloads/octron_project_2/7c724296/led 2 masks.zarr/masks shape=(210, 1000, 1000) dtype=int8>],\n",
       "   'color': [0.1411764705882353, 0.9411764705882353, 0.7529411764705882, 1.0]},\n",
       "  'video': <napari_pyav._reader.FastVideoReader at 0x30dd3f310>},\n",
       " '/Users/horst/Downloads/octron_project_2/c22c039f': {0: {'label': 'worm',\n",
       "   'frames': array([  1,   2,   3,   4,   5,   6,   7,   8,   9,  10,  11,  12,  13,\n",
       "           14,  15,  16,  17,  18,  19,  20, 139, 140, 141, 142, 143, 144,\n",
       "          145, 146, 147, 148, 149, 150, 151, 152, 153, 154, 155, 156, 157,\n",
       "          158, 161, 164, 167, 170, 173, 176, 179, 182, 185, 188, 191, 194,\n",
       "          197, 200, 203, 206, 207, 208]),\n",
       "   'masks': [<Array file:///Users/horst/Downloads/octron_project_2/c22c039f/worm masks.zarr/masks shape=(210, 1000, 1000) dtype=int8>],\n",
       "   'color': [0.5647058823529412,\n",
       "    0.054901960784313725,\n",
       "    0.6470588235294118,\n",
       "    1.0]},\n",
       "  1: {'label': 'led',\n",
       "   'frames': array([  1,   2,   3,   4,   5,   6,   7,   8,   9,  10,  11,  12,  13,\n",
       "           14,  15,  16,  17,  18,  19,  20, 139, 140, 141, 142, 143, 144,\n",
       "          145, 146, 147, 148, 149, 150, 151, 152, 153, 154, 155, 156, 157,\n",
       "          158, 161, 164, 167, 170, 173, 176, 179, 182, 185, 188, 191, 194,\n",
       "          197, 200, 203, 206, 207, 208]),\n",
       "   'masks': [<Array file:///Users/horst/Downloads/octron_project_2/c22c039f/led 1 masks.zarr/masks shape=(210, 1000, 1000) dtype=int8>,\n",
       "    <Array file:///Users/horst/Downloads/octron_project_2/c22c039f/led 2 masks.zarr/masks shape=(210, 1000, 1000) dtype=int8>],\n",
       "   'color': [0.1411764705882353, 0.9411764705882353, 0.7529411764705882, 1.0]},\n",
       "  'video': <napari_pyav._reader.FastVideoReader at 0x30d91cb90>}}"
      ]
     },
     "execution_count": 7,
     "metadata": {},
     "output_type": "execute_result"
    }
   ],
   "source": [
    "# Run collect_labels in isolation. This would be triggered if a new project path is chosen\n",
    "label_dict = collect_labels(project_path)   \n",
    "label_dict"
   ]
  },
  {
   "cell_type": "code",
   "execution_count": null,
   "metadata": {},
   "outputs": [],
   "source": []
  },
  {
   "cell_type": "code",
   "execution_count": null,
   "metadata": {},
   "outputs": [],
   "source": []
  },
  {
   "cell_type": "code",
   "execution_count": 5,
   "metadata": {},
   "outputs": [
    {
     "name": "stdout",
     "output_type": "stream",
     "text": [
      "Models folder /Users/horst/Documents/python/OCTRON/octron/yolo_octron/models exists.\n",
      "Model file /Users/horst/Documents/python/OCTRON/octron/yolo_octron/models/yolo11m-seg.pt exists. Skipping download.\n",
      "Model file /Users/horst/Documents/python/OCTRON/octron/yolo_octron/models/yolo11l-seg.pt exists. Skipping download.\n",
      "Model file /Users/horst/Documents/python/OCTRON/octron/yolo_octron/models/yolo11x-seg.pt exists. Skipping download.\n",
      "Created fresh training directory \"/Users/horst/Downloads/octron_project_2/model\"\n",
      "YOLO Octron initialized with project: '/Users/horst/Downloads/octron_project_2'\n"
     ]
    }
   ],
   "source": [
    "yolo_octron = YOLO_octron(project_path=project_path,\n",
    "                          models_yaml_path=models_yaml_path,\n",
    "                          clean_training_dir=True,\n",
    "                          )"
   ]
  },
  {
   "cell_type": "code",
   "execution_count": 6,
   "metadata": {},
   "outputs": [
    {
     "name": "stdout",
     "output_type": "stream",
     "text": [
      "📖 Octron object organizer loaded from /Users/horst/Downloads/octron_project_2/f080acc6/object_organizer.json\n",
      "📖 Octron object organizer loaded from /Users/horst/Downloads/octron_project_2/7c724296/object_organizer.json\n",
      "📖 Octron object organizer loaded from /Users/horst/Downloads/octron_project_2/c22c039f/object_organizer.json\n"
     ]
    },
    {
     "name": "stderr",
     "output_type": "stream",
     "text": [
      "Polygons for label worm: 100%|██████████| 99/99 [00:06<00:00, 16.25it/s]\n",
      "Polygons for label worm: 100%|██████████| 57/57 [00:03<00:00, 16.71it/s]\n",
      "Polygons for label led: 100%|██████████| 57/57 [00:06<00:00,  8.52it/s]\n",
      "Polygons for label worm: 100%|██████████| 58/58 [00:03<00:00, 16.74it/s]\n",
      "Polygons for label led: 100%|██████████| 58/58 [00:06<00:00,  8.47it/s]"
     ]
    },
    {
     "name": "stdout",
     "output_type": "stream",
     "text": [
      "Polygon preparation complete!\n"
     ]
    },
    {
     "name": "stderr",
     "output_type": "stream",
     "text": [
      "\n"
     ]
    }
   ],
   "source": [
    "yolo_octron.prepare_labels(\n",
    "                    prune_empty_labels=True, \n",
    "                    min_num_frames=10, \n",
    "                    verbose=False, \n",
    ")\n",
    "prepare_polygons = yolo_octron.prepare_polygons()\n",
    "# Process all yielded values\n",
    "for no_entry, total_label_dict, label, frame_no, total_frames in prepare_polygons:\n",
    "    # add progress reporting here \n",
    "    pass\n",
    "    \n",
    "print(\"Polygon preparation complete!\")\n",
    "yolo_octron.prepare_split(\n",
    "                    training_fraction=0.7,\n",
    "                    validation_fraction=0.15,\n",
    "                    verbose=False,\n",
    ")"
   ]
  },
  {
   "cell_type": "code",
   "execution_count": 7,
   "metadata": {},
   "outputs": [
    {
     "name": "stderr",
     "output_type": "stream",
     "text": [
      "Exporting 1 labels: 100%|██████████| 1/1 [00:14<00:00, 14.40s/it]\n",
      "Exporting 2 labels: 100%|██████████| 2/2 [00:07<00:00,  3.74s/it]\n",
      "Exporting 2 labels: 100%|██████████| 2/2 [00:09<00:00,  4.51s/it]"
     ]
    },
    {
     "name": "stdout",
     "output_type": "stream",
     "text": [
      "YOLO config saved to '/Users/horst/Downloads/octron_project_2/model/training_data/yolo_config.yaml'\n"
     ]
    },
    {
     "name": "stderr",
     "output_type": "stream",
     "text": [
      "\n"
     ]
    }
   ],
   "source": [
    "create_training_data = yolo_octron.create_training_data()\n",
    "# Process all yielded values\n",
    "for no_entry, total_label_dict, label, split, frame_no, total_frames in create_training_data:\n",
    "    # add progress reporting here \n",
    "    pass\n",
    "    \n",
    "yolo_octron.write_yolo_config()"
   ]
  },
  {
   "cell_type": "markdown",
   "metadata": {},
   "source": [
    "## YOLO training"
   ]
  },
  {
   "cell_type": "code",
   "execution_count": 8,
   "metadata": {},
   "outputs": [
    {
     "name": "stdout",
     "output_type": "stream",
     "text": [
      "Model loaded from '/Users/horst/Documents/python/OCTRON/octron/yolo_octron/models/yolo11l-seg.pt'\n"
     ]
    }
   ],
   "source": [
    "_ = yolo_octron.load_model('YOLO11l')"
   ]
  },
  {
   "cell_type": "code",
   "execution_count": 9,
   "metadata": {},
   "outputs": [
    {
     "name": "stdout",
     "output_type": "stream",
     "text": [
      "Starting training for 1 epochs...\n",
      "New https://pypi.org/project/ultralytics/8.3.83 available 😃 Update with 'pip install -U ultralytics'\n",
      "Ultralytics 8.3.81 🚀 Python-3.11.11 torch-2.3.1 CPU (Apple M2 Max)\n",
      "\u001b[34m\u001b[1mengine/trainer: \u001b[0mtask=segment, mode=train, model=/Users/horst/Documents/python/OCTRON/octron/yolo_octron/models/yolo11l-seg.pt, data=/Users/horst/Downloads/octron_project_2/model/training_data/yolo_config.yaml, epochs=1, time=None, patience=100, batch=0.9, imgsz=640, save=True, save_period=15, cache=False, device=cpu, workers=8, project=None, name=training, exist_ok=True, pretrained=True, optimizer=auto, verbose=True, seed=0, deterministic=True, single_cls=False, rect=False, cos_lr=False, close_mosaic=10, resume=False, amp=True, fraction=1.0, profile=False, freeze=None, multi_scale=False, overlap_mask=True, mask_ratio=4, dropout=0.0, val=True, split=val, save_json=False, save_hybrid=False, conf=None, iou=0.7, max_det=300, half=False, dnn=False, plots=True, source=None, vid_stride=1, stream_buffer=False, visualize=False, augment=True, agnostic_nms=False, classes=None, retina_masks=False, embed=None, show=False, save_frames=False, save_txt=False, save_conf=False, save_crop=False, show_labels=True, show_conf=True, show_boxes=True, line_width=None, format=torchscript, keras=False, optimize=False, int8=False, dynamic=False, simplify=True, opset=None, workspace=None, nms=False, lr0=0.01, lrf=0.01, momentum=0.937, weight_decay=0.0005, warmup_epochs=3.0, warmup_momentum=0.8, warmup_bias_lr=0.1, box=7.5, cls=0.5, dfl=1.5, pose=12.0, kobj=1.0, nbs=64, hsv_h=0.015, hsv_s=0.7, hsv_v=0.25, degrees=180, translate=0.1, scale=0.5, shear=2, perspective=0.0, flipud=0.1, fliplr=0.1, bgr=0.0, mosaic=1.0, mixup=0.0, copy_paste=0.5, copy_paste_mode=mixup, auto_augment=randaugment, erasing=0.25, crop_fraction=1.0, cfg=None, tracker=botsort.yaml, save_dir=/Users/horst/Downloads/octron_project_2/model/segment/training\n",
      "Overriding model.yaml nc=80 with nc=2\n",
      "\n",
      "                   from  n    params  module                                       arguments                     \n",
      "  0                  -1  1      1856  ultralytics.nn.modules.conv.Conv             [3, 64, 3, 2]                 \n",
      "  1                  -1  1     73984  ultralytics.nn.modules.conv.Conv             [64, 128, 3, 2]               \n",
      "  2                  -1  2    173824  ultralytics.nn.modules.block.C3k2            [128, 256, 2, True, 0.25]     \n",
      "  3                  -1  1    590336  ultralytics.nn.modules.conv.Conv             [256, 256, 3, 2]              \n",
      "  4                  -1  2    691712  ultralytics.nn.modules.block.C3k2            [256, 512, 2, True, 0.25]     \n",
      "  5                  -1  1   2360320  ultralytics.nn.modules.conv.Conv             [512, 512, 3, 2]              \n",
      "  6                  -1  2   2234368  ultralytics.nn.modules.block.C3k2            [512, 512, 2, True]           \n",
      "  7                  -1  1   2360320  ultralytics.nn.modules.conv.Conv             [512, 512, 3, 2]              \n",
      "  8                  -1  2   2234368  ultralytics.nn.modules.block.C3k2            [512, 512, 2, True]           \n",
      "  9                  -1  1    656896  ultralytics.nn.modules.block.SPPF            [512, 512, 5]                 \n",
      " 10                  -1  2   1455616  ultralytics.nn.modules.block.C2PSA           [512, 512, 2]                 \n",
      " 11                  -1  1         0  torch.nn.modules.upsampling.Upsample         [None, 2, 'nearest']          \n",
      " 12             [-1, 6]  1         0  ultralytics.nn.modules.conv.Concat           [1]                           \n",
      " 13                  -1  2   2496512  ultralytics.nn.modules.block.C3k2            [1024, 512, 2, True]          \n",
      " 14                  -1  1         0  torch.nn.modules.upsampling.Upsample         [None, 2, 'nearest']          \n",
      " 15             [-1, 4]  1         0  ultralytics.nn.modules.conv.Concat           [1]                           \n",
      " 16                  -1  2    756736  ultralytics.nn.modules.block.C3k2            [1024, 256, 2, True]          \n",
      " 17                  -1  1    590336  ultralytics.nn.modules.conv.Conv             [256, 256, 3, 2]              \n",
      " 18            [-1, 13]  1         0  ultralytics.nn.modules.conv.Concat           [1]                           \n",
      " 19                  -1  2   2365440  ultralytics.nn.modules.block.C3k2            [768, 512, 2, True]           \n",
      " 20                  -1  1   2360320  ultralytics.nn.modules.conv.Conv             [512, 512, 3, 2]              \n",
      " 21            [-1, 10]  1         0  ultralytics.nn.modules.conv.Concat           [1]                           \n",
      " 22                  -1  2   2496512  ultralytics.nn.modules.block.C3k2            [1024, 512, 2, True]          \n",
      " 23        [16, 19, 22]  1   3718774  ultralytics.nn.modules.head.Segment          [2, 32, 256, [256, 512, 512]] \n",
      "YOLO11l-seg summary: 379 layers, 27,618,230 parameters, 27,618,214 gradients, 142.7 GFLOPs\n",
      "\n",
      "Transferred 1071/1077 items from pretrained weights\n",
      "\u001b[34m\u001b[1mTensorBoard: \u001b[0mStart with 'tensorboard --logdir /Users/horst/Downloads/octron_project_2/model/segment/training', view at http://localhost:6006/\n",
      "Freezing layer 'model.23.dfl.conv.weight'\n"
     ]
    },
    {
     "name": "stderr",
     "output_type": "stream",
     "text": [
      "\u001b[34m\u001b[1mtrain: \u001b[0mScanning /Users/horst/Downloads/octron_project_2/model/training_data/train... 148 images, 0 backgrounds, 0 corrupt: 100%|██████████| 148/148 [00:00<00:00, 2223.82it/s]"
     ]
    },
    {
     "name": "stdout",
     "output_type": "stream",
     "text": [
      "\u001b[34m\u001b[1mtrain: \u001b[0mNew cache created: /Users/horst/Downloads/octron_project_2/model/training_data/train.cache\n",
      "\u001b[34m\u001b[1mAutoBatch: \u001b[0mComputing optimal batch size for imgsz=640 at 90.0% CUDA memory utilization.\n",
      "\u001b[34m\u001b[1mAutoBatch: \u001b[0m ⚠️ intended for CUDA devices, using default batch-size 16\n"
     ]
    },
    {
     "name": "stderr",
     "output_type": "stream",
     "text": [
      "\n",
      "\u001b[34m\u001b[1mtrain: \u001b[0mScanning /Users/horst/Downloads/octron_project_2/model/training_data/train.cache... 148 images, 0 backgrounds, 0 corrupt: 100%|██████████| 148/148 [00:00<?, ?it/s]\n",
      "\u001b[34m\u001b[1mval: \u001b[0mScanning /Users/horst/Downloads/octron_project_2/model/training_data/val... 30 images, 0 backgrounds, 0 corrupt: 100%|██████████| 30/30 [00:00<00:00, 2044.57it/s]"
     ]
    },
    {
     "name": "stdout",
     "output_type": "stream",
     "text": [
      "\u001b[34m\u001b[1mval: \u001b[0mNew cache created: /Users/horst/Downloads/octron_project_2/model/training_data/val.cache\n",
      "Plotting labels to /Users/horst/Downloads/octron_project_2/model/segment/training/labels.jpg... \n"
     ]
    },
    {
     "name": "stderr",
     "output_type": "stream",
     "text": [
      "\n"
     ]
    },
    {
     "name": "stdout",
     "output_type": "stream",
     "text": [
      "\u001b[34m\u001b[1moptimizer:\u001b[0m 'optimizer=auto' found, ignoring 'lr0=0.01' and 'momentum=0.937' and determining best 'optimizer', 'lr0' and 'momentum' automatically... \n",
      "\u001b[34m\u001b[1moptimizer:\u001b[0m AdamW(lr=0.001667, momentum=0.9) with parameter groups 176 weight(decay=0.0), 187 weight(decay=0.0005), 186 bias(decay=0.0)\n",
      "\u001b[34m\u001b[1mTensorBoard: \u001b[0mmodel graph visualization added ✅\n",
      "Image sizes 640 train, 640 val\n",
      "Using 0 dataloader workers\n",
      "Logging results to \u001b[1m/Users/horst/Downloads/octron_project_2/model/segment/training\u001b[0m\n",
      "Starting training for 1 epochs...\n",
      "\n",
      "      Epoch    GPU_mem   box_loss   seg_loss   cls_loss   dfl_loss  Instances       Size\n"
     ]
    },
    {
     "name": "stderr",
     "output_type": "stream",
     "text": [
      "        1/1         0G     0.7578      1.152      2.229     0.8979          9        640: 100%|██████████| 10/10 [05:32<00:00, 33.25s/it]\n",
      "                 Class     Images  Instances      Box(P          R      mAP50  mAP50-95)     Mask(P          R      mAP50  mAP50-95): 100%|██████████| 1/1 [00:30<00:00, 30.53s/it]\n",
      "/Users/horst/miniconda3/envs/sam2/lib/python3.11/site-packages/ultralytics/utils/metrics.py:529: DeprecationWarning: `trapz` is deprecated. Use `trapezoid` instead, or one of the numerical integration functions in `scipy.integrate`.\n",
      "  ap = np.trapz(np.interp(x, mrec, mpre), x)  # integrate\n",
      "/Users/horst/miniconda3/envs/sam2/lib/python3.11/site-packages/ultralytics/utils/metrics.py:529: DeprecationWarning: `trapz` is deprecated. Use `trapezoid` instead, or one of the numerical integration functions in `scipy.integrate`.\n",
      "  ap = np.trapz(np.interp(x, mrec, mpre), x)  # integrate\n"
     ]
    },
    {
     "name": "stdout",
     "output_type": "stream",
     "text": [
      "                   all         30         62      0.783      0.612      0.771      0.626      0.783      0.612      0.771      0.611\n",
      "\n",
      "1 epochs completed in 0.103 hours.\n",
      "Optimizer stripped from /Users/horst/Downloads/octron_project_2/model/segment/training/weights/last.pt, 55.8MB\n",
      "Optimizer stripped from /Users/horst/Downloads/octron_project_2/model/segment/training/weights/best.pt, 55.8MB\n",
      "\n",
      "Validating /Users/horst/Downloads/octron_project_2/model/segment/training/weights/best.pt...\n",
      "Ultralytics 8.3.81 🚀 Python-3.11.11 torch-2.3.1 CPU (Apple M2 Max)\n",
      "YOLO11l-seg summary (fused): 203 layers, 27,586,134 parameters, 0 gradients, 141.9 GFLOPs\n"
     ]
    },
    {
     "name": "stderr",
     "output_type": "stream",
     "text": [
      "                 Class     Images  Instances      Box(P          R      mAP50  mAP50-95)     Mask(P          R      mAP50  mAP50-95):   0%|          | 0/1 [00:00<?, ?it/s]"
     ]
    },
    {
     "name": "stdout",
     "output_type": "stream",
     "text": [
      "WARNING ⚠️ Model does not support 'augment=True', reverting to single-scale prediction.\n"
     ]
    },
    {
     "name": "stderr",
     "output_type": "stream",
     "text": [
      "                 Class     Images  Instances      Box(P          R      mAP50  mAP50-95)     Mask(P          R      mAP50  mAP50-95): 100%|██████████| 1/1 [00:30<00:00, 30.23s/it]\n",
      "/Users/horst/miniconda3/envs/sam2/lib/python3.11/site-packages/ultralytics/utils/metrics.py:529: DeprecationWarning: `trapz` is deprecated. Use `trapezoid` instead, or one of the numerical integration functions in `scipy.integrate`.\n",
      "  ap = np.trapz(np.interp(x, mrec, mpre), x)  # integrate\n",
      "/Users/horst/miniconda3/envs/sam2/lib/python3.11/site-packages/ultralytics/utils/metrics.py:529: DeprecationWarning: `trapz` is deprecated. Use `trapezoid` instead, or one of the numerical integration functions in `scipy.integrate`.\n",
      "  ap = np.trapz(np.interp(x, mrec, mpre), x)  # integrate\n"
     ]
    },
    {
     "name": "stdout",
     "output_type": "stream",
     "text": [
      "                   all         30         62      0.784      0.608      0.772      0.627      0.784      0.608      0.772      0.611\n",
      "                  worm         30         30      0.754      0.967      0.962      0.796      0.754      0.967      0.962      0.807\n",
      "                   led         16         32      0.814       0.25      0.582      0.457      0.814       0.25      0.582      0.416\n",
      "Speed: 0.6ms preprocess, 974.9ms inference, 0.0ms loss, 10.6ms postprocess per image\n",
      "Results saved to \u001b[1m/Users/horst/Downloads/octron_project_2/model/segment/training\u001b[0m\n",
      "🏆 Segmentation training complete!\n"
     ]
    }
   ],
   "source": [
    "train_results = yolo_octron.train(epochs=1)"
   ]
  },
  {
   "cell_type": "code",
   "execution_count": 11,
   "metadata": {},
   "outputs": [
    {
     "data": {
      "text/plain": [
       "{'metrics/precision(B)': np.float64(0.784046827475258),\n",
       " 'metrics/recall(B)': np.float64(0.6083333333333334),\n",
       " 'metrics/mAP50(B)': np.float64(0.7721163609202902),\n",
       " 'metrics/mAP50-95(B)': np.float64(0.626548029559358),\n",
       " 'metrics/precision(M)': np.float64(0.784046827475258),\n",
       " 'metrics/recall(M)': np.float64(0.6083333333333334),\n",
       " 'metrics/mAP50(M)': np.float64(0.7721163609202902),\n",
       " 'metrics/mAP50-95(M)': np.float64(0.6110792281300892),\n",
       " 'fitness': np.float64(1.2682878041045604)}"
      ]
     },
     "execution_count": 11,
     "metadata": {},
     "output_type": "execute_result"
    }
   ],
   "source": [
    "train_results.results_dict"
   ]
  },
  {
   "cell_type": "code",
   "execution_count": 10,
   "metadata": {},
   "outputs": [
    {
     "data": {
      "text/plain": [
       "{0: 'worm', 1: 'led'}"
      ]
     },
     "execution_count": 10,
     "metadata": {},
     "output_type": "execute_result"
    }
   ],
   "source": [
    "train_results.names"
   ]
  },
  {
   "cell_type": "code",
   "execution_count": null,
   "metadata": {},
   "outputs": [],
   "source": [
    "# # Load a model\n",
    "# import time\n",
    "# def on_train_start(trainer):\n",
    "#     print(\"🥳  Training is starting!\")\n",
    "\n",
    "# def on_fit_epoch_end(trainer):\n",
    "#     current_epoch = trainer.epoch + 1 \n",
    "#     time_epoch = trainer.epoch_time\n",
    "#     print(f\"Time for epoch: {time_epoch}\")\n",
    "#     remaining_time = time_epoch * (no_epochs - current_epoch)   \n",
    "#     finish_time = time.time() + remaining_time\n",
    "#     print(f\"Estimated time remaining: {remaining_time} seconds\")    \n",
    "#     print(f'Estimated finish time: {time.ctime(finish_time)}')  \n",
    "    \n",
    "# model = YOLO(path_to_model)  # load a pretrained model (recommended for training)\n",
    "# model.add_callback(\"on_train_start\", on_train_start)\n",
    "# model.add_callback(\"on_fit_epoch_end\", on_fit_epoch_end)\n",
    "# no_epochs = 30\n",
    "\n",
    "# # Train the model\n",
    "# # https://docs.ultralytics.com/usage/cfg/#solutions-settings\n",
    "# # results = model.train(data=config_path, \n",
    "# #                       save_dir=path_to_training.as_posix(),\n",
    "# #                       name='training',\n",
    "# #                       mode='segment',\n",
    "# #                       device='cpu',\n",
    "# #                       mask_ratio=4,\n",
    "# #                       epochs=no_epochs,\n",
    "# #                       imgsz=640,\n",
    "# #                       resume=False,\n",
    "# #                       plots=True,\n",
    "# #                       batch=.9,\n",
    "# #                       cache=False,\n",
    "# #                       save=True,\n",
    "# #                       save_period=15,\n",
    "# #                       project=None,\n",
    "# #                       exist_ok=True,\n",
    "# #                       # augmentation\n",
    "# #                       augment=True,\n",
    "# #                       hsv_v=.25,\n",
    "# #                       degrees=180,\n",
    "# #                       scale=.5,\n",
    "# #                       shear=2,\n",
    "# #                       flipud=.1,\n",
    "# #                       fliplr=.1,\n",
    "# #                       mosaic=1.0,\n",
    "# #                       copy_paste=.5,\n",
    "# #                       copy_paste_mode='mixup', \n",
    "# #                       erasing=.25,\n",
    "# #                       crop_fraction=1.0,\n",
    "# #                       )"
   ]
  },
  {
   "cell_type": "code",
   "execution_count": null,
   "metadata": {},
   "outputs": [],
   "source": [
    "# model = YOLO('/Users/horst/Downloads/octron_project/octron_training/yolo runs/segment/train/weights/last.pt')  #"
   ]
  },
  {
   "cell_type": "code",
   "execution_count": null,
   "metadata": {},
   "outputs": [],
   "source": [
    "# metrics = model.val(device='cpu', plots=True)"
   ]
  },
  {
   "cell_type": "code",
   "execution_count": null,
   "metadata": {},
   "outputs": [],
   "source": []
  }
 ],
 "metadata": {
  "kernelspec": {
   "display_name": "sam2",
   "language": "python",
   "name": "python3"
  },
  "language_info": {
   "codemirror_mode": {
    "name": "ipython",
    "version": 3
   },
   "file_extension": ".py",
   "mimetype": "text/x-python",
   "name": "python",
   "nbconvert_exporter": "python",
   "pygments_lexer": "ipython3",
   "version": "3.11.11"
  }
 },
 "nbformat": 4,
 "nbformat_minor": 2
}

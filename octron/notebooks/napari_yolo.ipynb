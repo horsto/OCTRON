{
 "cells": [
  {
   "cell_type": "markdown",
   "metadata": {
    "vscode": {
     "languageId": "plaintext"
    }
   },
   "source": [
    "## Yolo11 tests"
   ]
  },
  {
   "cell_type": "code",
   "execution_count": 1,
   "metadata": {},
   "outputs": [],
   "source": [
    "%load_ext autoreload\n",
    "%autoreload 2"
   ]
  },
  {
   "cell_type": "code",
   "execution_count": 2,
   "metadata": {},
   "outputs": [],
   "source": [
    "import os , sys\n",
    "import shutil\n",
    "from tqdm.auto import tqdm  \n",
    "sys.path.append('..')\n",
    "from pathlib import Path\n",
    "cur_path = Path(os.getcwd()).parent\n",
    "sam2_path = cur_path / 'sam2_octron'\n",
    "sys.path.append(cur_path.as_posix())\n",
    "from matplotlib import pyplot as plt\n",
    "import cmasher as cmr\n",
    "import numpy as np\n",
    "import seaborn as sns\n",
    "sns.set_theme(style='white')\n",
    "%config InlineBackend.figure_format = 'retina'"
   ]
  },
  {
   "cell_type": "code",
   "execution_count": 13,
   "metadata": {},
   "outputs": [],
   "source": [
    "from napari_pyav._reader import FastVideoReader\n",
    "from octron.sam2_octron.helpers.video_loader import get_vfile_hash\n",
    "from octron.yolo_octron.helpers.training import (collect_labels, \n",
    "                                                 find_common_frames,\n",
    "                                                 draw_polygons,\n",
    "                                                 train_test_val,\n",
    "                                                 write_training_data,\n",
    "                                                 write_yolo_config_yaml,\n",
    "                                                 \n",
    ")\n",
    "from octron.sam2_octron.helpers.sam2_zarr import load_image_zarr"
   ]
  },
  {
   "cell_type": "code",
   "execution_count": 4,
   "metadata": {},
   "outputs": [],
   "source": [
    "# Presaved model (YOLOv11)\n",
    "path_to_model = Path('/Users/horst/Documents/python/OCTRON/octron/yolo_octron/yolo11l-seg.pt')\n",
    "project_path = Path('/Users/horst/Downloads/octron_project_2')\n",
    "assert project_path.exists()\n",
    "assert path_to_model.exists()"
   ]
  },
  {
   "cell_type": "code",
   "execution_count": 5,
   "metadata": {},
   "outputs": [],
   "source": [
    "from zarr.core import array # For type checking "
   ]
  },
  {
   "cell_type": "markdown",
   "metadata": {},
   "source": [
    "### Find out what info is present across object organizers / ..."
   ]
  },
  {
   "cell_type": "markdown",
   "metadata": {},
   "source": [
    "- Construct a nice loop that finds the zarr, video files, and compares video file hashes \n"
   ]
  },
  {
   "cell_type": "code",
   "execution_count": 6,
   "metadata": {},
   "outputs": [
    {
     "data": {
      "text/plain": [
       "PosixPath('/Users/horst/Downloads/octron_project_2')"
      ]
     },
     "execution_count": 6,
     "metadata": {},
     "output_type": "execute_result"
    }
   ],
   "source": [
    "project_path"
   ]
  },
  {
   "cell_type": "code",
   "execution_count": 45,
   "metadata": {},
   "outputs": [
    {
     "name": "stdout",
     "output_type": "stream",
     "text": [
      "📖 Octron object organizer loaded from /Users/horst/Downloads/octron_project_2/f080acc6/object_organizer.json\n",
      "📖 Octron object organizer loaded from /Users/horst/Downloads/octron_project_2/7c724296/object_organizer.json\n",
      "📖 Octron object organizer loaded from /Users/horst/Downloads/octron_project_2/c22c039f/object_organizer.json\n"
     ]
    }
   ],
   "source": [
    "label_dict = collect_labels(project_path, prune_empty_labels=True, verbose=False)"
   ]
  },
  {
   "cell_type": "code",
   "execution_count": 43,
   "metadata": {},
   "outputs": [
    {
     "data": {
      "text/plain": [
       "{0: {'label': 'worm',\n",
       "  'frames': array([ 0,  1,  2,  3,  4,  5,  6,  7,  8,  9, 10, 11, 12, 13, 14, 15, 16,\n",
       "         17, 18, 19, 20, 21, 22, 23, 24, 25, 26, 27, 28, 29, 30, 31, 32, 33,\n",
       "         34, 35, 36, 37, 38, 39, 40, 41, 42, 43, 44, 45, 46, 47, 48, 49, 50,\n",
       "         51, 52, 53, 54, 55, 56]),\n",
       "  'masks': [<Array file:///Users/horst/Downloads/octron_project_2/7c724296/worm masks.zarr/masks shape=(210, 1000, 1000) dtype=int8>],\n",
       "  'video': [<napari_pyav._reader.FastVideoReader at 0x30ae8db90>]},\n",
       " 1: {'label': 'led',\n",
       "  'frames': array([ 0,  1,  2,  3,  4,  5,  6,  7,  8,  9, 10, 11, 12, 13, 14, 15, 16,\n",
       "         17, 18, 19, 20, 21, 22, 23, 24, 25, 26, 27, 28, 29, 30, 31, 32, 33,\n",
       "         34, 35, 36, 37, 38, 39, 40, 41, 42, 43, 44, 45, 46, 47, 48, 49, 50,\n",
       "         51, 52, 53, 54, 55, 56]),\n",
       "  'masks': [<Array file:///Users/horst/Downloads/octron_project_2/7c724296/led 1 masks.zarr/masks shape=(210, 1000, 1000) dtype=int8>,\n",
       "   <Array file:///Users/horst/Downloads/octron_project_2/7c724296/led 2 masks.zarr/masks shape=(210, 1000, 1000) dtype=int8>],\n",
       "  'video': [<napari_pyav._reader.FastVideoReader at 0x30ae8fed0>,\n",
       "   <napari_pyav._reader.FastVideoReader at 0x30ae8e610>]}}"
      ]
     },
     "execution_count": 43,
     "metadata": {},
     "output_type": "execute_result"
    }
   ],
   "source": [
    "example = label_dict['/Users/horst/Downloads/octron_project_2/7c724296']\n",
    "example"
   ]
  },
  {
   "cell_type": "code",
   "execution_count": null,
   "metadata": {},
   "outputs": [],
   "source": []
  },
  {
   "cell_type": "code",
   "execution_count": null,
   "metadata": {},
   "outputs": [],
   "source": []
  },
  {
   "cell_type": "code",
   "execution_count": null,
   "metadata": {},
   "outputs": [],
   "source": [
    "# # Video reader \n",
    "# video_dict = probe_video(path_to_video)\n",
    "# video_data = FastVideoReader(path_to_video)  "
   ]
  },
  {
   "cell_type": "markdown",
   "metadata": {},
   "source": [
    "### Process training data"
   ]
  },
  {
   "cell_type": "code",
   "execution_count": null,
   "metadata": {},
   "outputs": [],
   "source": [
    "# organizer_dict = load_object_organizer(path_to_json_organizer)  \n",
    "# assert organizer_dict is not None\n",
    "# labels = collect_labels(organizer_dict,\n",
    "#                         )"
   ]
  },
  {
   "cell_type": "code",
   "execution_count": null,
   "metadata": {},
   "outputs": [],
   "source": [
    "#draw_polygons(labels, video_data, 2)"
   ]
  },
  {
   "cell_type": "code",
   "execution_count": null,
   "metadata": {},
   "outputs": [],
   "source": [
    "# # Perform the split of the data\n",
    "# # .. 80% training, 10% validation and 10% testing\n",
    "# print('Splitting the data for training into training, validation and testing fractions')  \n",
    "# for label_id, label_dict in labels.items():\n",
    "#     print(label_dict['label'])\n",
    "#     label_split = train_test_val(label_dict['frames'], \n",
    "#                                  training_fraction=0.8,\n",
    "#                                  validation_fraction=0.1,\n",
    "#                                  verbose=True)\n",
    "#     labels[label_id]['frames_split'] = label_split"
   ]
  },
  {
   "cell_type": "code",
   "execution_count": null,
   "metadata": {},
   "outputs": [],
   "source": [
    "# # Now export the data to the respective directories\n",
    "# # We need to export the images and the labels\n",
    "# for split in ['train', 'val', 'test']:\n",
    "#     path_to_split = path_to_training_root / split\n",
    "#     try:\n",
    "#         path_to_split.mkdir(exist_ok=False)\n",
    "#     except FileExistsError:\n",
    "#         shutil.rmtree(path_to_split)    \n",
    "#         path_to_split.mkdir()\n",
    "\n",
    "# write_training_data(labels,\n",
    "#                     path_to_training_root,\n",
    "#                     video_data,\n",
    "# )"
   ]
  },
  {
   "cell_type": "code",
   "execution_count": null,
   "metadata": {},
   "outputs": [],
   "source": [
    "# # Example usage\n",
    "# dataset_path = path_to_training_root\n",
    "# train_path = \"train\"  \n",
    "# val_path = \"val\"\n",
    "# test_path = \"test\"\n",
    "\n",
    "# # Get label names from your object organizer\n",
    "# label_id_label_dict = {}\n",
    "# for label_id, label_dict in labels.items():\n",
    "#     label_id_label_dict[label_id] = label_dict['label']\n",
    "\n",
    "# # Write the YAML config\n",
    "# config_path = path_to_training_root / \"yolo_config.yaml\"\n",
    "# write_yolo_config_yaml(\n",
    "#     output_path=config_path,\n",
    "#     dataset_path=dataset_path,\n",
    "#     train_path=train_path,\n",
    "#     val_path=val_path,\n",
    "#     test_path=test_path,\n",
    "#     label_dict=label_id_label_dict\n",
    "# )"
   ]
  },
  {
   "cell_type": "markdown",
   "metadata": {},
   "source": [
    "## YOLO setup"
   ]
  },
  {
   "cell_type": "code",
   "execution_count": null,
   "metadata": {},
   "outputs": [],
   "source": [
    "# from ultralytics import YOLO\n",
    "# from ultralytics import settings\n",
    "# settings.update({'sync': False,'hub':False, })\n",
    "# runs_output_dir = config_path.parent / 'yolo runs'   \n",
    "# settings.update({'datasets_dir': '','weights_dir':'', 'runs_dir': runs_output_dir.as_posix()})\n",
    "# settings.update()"
   ]
  },
  {
   "cell_type": "code",
   "execution_count": null,
   "metadata": {},
   "outputs": [],
   "source": [
    "# # Load a model\n",
    "# model = YOLO(path_to_model)  # load a pretrained model (recommended for training)\n",
    "# # Train the model\n",
    "# # https://docs.ultralytics.com/usage/cfg/#solutions-settings\n",
    "# results = model.train(data=config_path, \n",
    "#                       save_dir=runs_output_dir.as_posix(),\n",
    "#                       device='cpu',\n",
    "#                       mask_ratio=4,\n",
    "#                       epochs=60,\n",
    "#                       imgsz=640,\n",
    "#                       resume=False,\n",
    "#                       plots=True,\n",
    "#                       batch=.85,\n",
    "#                       cache=False,\n",
    "#                       save=True,\n",
    "#                       save_period=15,\n",
    "#                       project=None,\n",
    "#                       name=None,\n",
    "#                       exist_ok=True,\n",
    "#                       # augmentation\n",
    "#                       hsv_v=.25,\n",
    "#                       degrees=180,\n",
    "#                       scale=.5,\n",
    "#                       shear=2,\n",
    "#                       flipud=.1,\n",
    "#                       fliplr=.1,\n",
    "#                       mosaic=1.0,\n",
    "#                       copy_paste=.5,\n",
    "#                       copy_paste_mode='mixup', \n",
    "#                       erasing=.25,\n",
    "#                       crop_fraction=1.0,\n",
    "#                       )"
   ]
  },
  {
   "cell_type": "code",
   "execution_count": null,
   "metadata": {},
   "outputs": [],
   "source": [
    "# model = YOLO('/Users/horst/Downloads/octron_project/octron_training/yolo runs/segment/train/weights/last.pt')  #"
   ]
  },
  {
   "cell_type": "code",
   "execution_count": null,
   "metadata": {},
   "outputs": [],
   "source": [
    "# metrics = model.val(device='cpu', plots=True)"
   ]
  },
  {
   "cell_type": "code",
   "execution_count": null,
   "metadata": {},
   "outputs": [],
   "source": [
    "# print(\"Mean Average Precision for boxes:\", metrics.box.map)\n",
    "# print(\"Mean Average Precision for masks:\", metrics.seg.map)"
   ]
  },
  {
   "cell_type": "code",
   "execution_count": null,
   "metadata": {},
   "outputs": [],
   "source": [
    "# # Run inference on 'bus.jpg' with arguments\n",
    "# model.predict('/Users/horst/Downloads/octron_project/test data/8_behaviour_filtered2024-11-04T14_20_34_20240930_Th19.mp4', \n",
    "#               save=True, \n",
    "#               classes=[0],\n",
    "#               imgsz=1000, \n",
    "#               device='cpu',\n",
    "#               visualize=False,\n",
    "#               conf=0.9\n",
    "#               )"
   ]
  },
  {
   "cell_type": "code",
   "execution_count": null,
   "metadata": {},
   "outputs": [],
   "source": [
    "# # Train/val/test sets as \n",
    "# 1) dir: path/to/imgs, \n",
    "# 2) file: path/to/imgs.txt, or list: [path/to/imgs1, path/to/imgs2, ..]\n",
    "# path: ../datasets/coco8-seg # dataset root dir (absolute or relative; if relative, it's relative to default datasets_dir)\n",
    "# train: images/train # train images (relative to 'path') 4 images\n",
    "# val: images/val # val images (relative to 'path') 4 images\n",
    "# test: # test images (optional)\n"
   ]
  },
  {
   "cell_type": "code",
   "execution_count": null,
   "metadata": {},
   "outputs": [],
   "source": []
  }
 ],
 "metadata": {
  "kernelspec": {
   "display_name": "sam2",
   "language": "python",
   "name": "python3"
  },
  "language_info": {
   "codemirror_mode": {
    "name": "ipython",
    "version": 3
   },
   "file_extension": ".py",
   "mimetype": "text/x-python",
   "name": "python",
   "nbconvert_exporter": "python",
   "pygments_lexer": "ipython3",
   "version": "3.11.11"
  }
 },
 "nbformat": 4,
 "nbformat_minor": 2
}

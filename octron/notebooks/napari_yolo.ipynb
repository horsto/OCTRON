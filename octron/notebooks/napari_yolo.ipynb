{
 "cells": [
  {
   "cell_type": "markdown",
   "metadata": {
    "vscode": {
     "languageId": "plaintext"
    }
   },
   "source": [
    "## Yolo11 tests"
   ]
  },
  {
   "cell_type": "code",
   "execution_count": 1,
   "metadata": {},
   "outputs": [],
   "source": [
    "%load_ext autoreload\n",
    "%autoreload 2"
   ]
  },
  {
   "cell_type": "code",
   "execution_count": 2,
   "metadata": {},
   "outputs": [],
   "source": [
    "import os , sys\n",
    "import shutil\n",
    "from tqdm.auto import tqdm  \n",
    "sys.path.append('..')\n",
    "from pathlib import Path\n",
    "cur_path = Path(os.getcwd()).parent\n",
    "sam2_path = cur_path / 'sam2_octron'\n",
    "sys.path.append(cur_path.as_posix())\n",
    "from matplotlib import pyplot as plt\n",
    "import cmasher as cmr\n",
    "import numpy as np\n",
    "import seaborn as sns\n",
    "sns.set_theme(style='white')\n",
    "%config InlineBackend.figure_format = 'retina'"
   ]
  },
  {
   "cell_type": "code",
   "execution_count": 3,
   "metadata": {},
   "outputs": [],
   "source": [
    "from napari_pyav._reader import FastVideoReader\n",
    "from octron.sam2_octron.helpers.video_loader import get_vfile_hash\n",
    "from octron.yolo_octron.helpers.training import (collect_labels, \n",
    "                                                 collect_polygons,\n",
    "                                                 draw_polygons,\n",
    "                                                 train_test_val,\n",
    "                                                 write_training_data,\n",
    "                                                 write_yolo_config_yaml,\n",
    "                                                 \n",
    ")\n",
    "from octron.yolo_octron.helpers.polygons import (find_objects_in_mask, \n",
    "                                                 watershed_mask,\n",
    "                                                 get_polygons,\n",
    ")\n",
    "from octron.sam2_octron.helpers.sam2_zarr import load_image_zarr"
   ]
  },
  {
   "cell_type": "code",
   "execution_count": 4,
   "metadata": {},
   "outputs": [],
   "source": [
    "# Presaved model (YOLOv11)\n",
    "path_to_model = Path('/Users/horst/Documents/python/OCTRON/octron/yolo_octron/yolo11l-seg.pt')\n",
    "project_path = Path('/Users/horst/Downloads/octron_project_2')\n",
    "assert project_path.exists()\n",
    "assert path_to_model.exists()"
   ]
  },
  {
   "cell_type": "markdown",
   "metadata": {},
   "source": [
    "### Find out what info is present across object organizers / ..."
   ]
  },
  {
   "cell_type": "markdown",
   "metadata": {},
   "source": [
    "- Construct a nice loop that finds the zarr, video files, and compares video file hashes \n"
   ]
  },
  {
   "cell_type": "code",
   "execution_count": 5,
   "metadata": {},
   "outputs": [
    {
     "data": {
      "text/plain": [
       "PosixPath('/Users/horst/Downloads/octron_project_2')"
      ]
     },
     "execution_count": 5,
     "metadata": {},
     "output_type": "execute_result"
    }
   ],
   "source": [
    "project_path"
   ]
  },
  {
   "cell_type": "code",
   "execution_count": 6,
   "metadata": {},
   "outputs": [
    {
     "name": "stdout",
     "output_type": "stream",
     "text": [
      "📖 Octron object organizer loaded from /Users/horst/Downloads/octron_project_2/f080acc6/object_organizer.json\n",
      "📖 Octron object organizer loaded from /Users/horst/Downloads/octron_project_2/7c724296/object_organizer.json\n",
      "📖 Octron object organizer loaded from /Users/horst/Downloads/octron_project_2/c22c039f/object_organizer.json\n"
     ]
    },
    {
     "data": {
      "application/vnd.jupyter.widget-view+json": {
       "model_id": "392c0050bdb847c4b549181d4bc634c6",
       "version_major": 2,
       "version_minor": 0
      },
      "text/plain": [
       "Polygons for label worm:   0%|          | 0/99 [00:00<?, ?it/s]"
      ]
     },
     "metadata": {},
     "output_type": "display_data"
    },
    {
     "data": {
      "application/vnd.jupyter.widget-view+json": {
       "model_id": "f0f4cdad77c741b892222c7ab29fb603",
       "version_major": 2,
       "version_minor": 0
      },
      "text/plain": [
       "Polygons for label worm:   0%|          | 0/57 [00:00<?, ?it/s]"
      ]
     },
     "metadata": {},
     "output_type": "display_data"
    },
    {
     "data": {
      "application/vnd.jupyter.widget-view+json": {
       "model_id": "67281b4618554c01955010fca7b8dda1",
       "version_major": 2,
       "version_minor": 0
      },
      "text/plain": [
       "Polygons for label led:   0%|          | 0/57 [00:00<?, ?it/s]"
      ]
     },
     "metadata": {},
     "output_type": "display_data"
    },
    {
     "data": {
      "application/vnd.jupyter.widget-view+json": {
       "model_id": "6aea60ae9bd54b95a98e68d990d4fe00",
       "version_major": 2,
       "version_minor": 0
      },
      "text/plain": [
       "Polygons for label worm:   0%|          | 0/58 [00:00<?, ?it/s]"
      ]
     },
     "metadata": {},
     "output_type": "display_data"
    },
    {
     "data": {
      "application/vnd.jupyter.widget-view+json": {
       "model_id": "71435a252f434a1085da5ea8e038bd49",
       "version_major": 2,
       "version_minor": 0
      },
      "text/plain": [
       "Polygons for label led:   0%|          | 0/58 [00:00<?, ?it/s]"
      ]
     },
     "metadata": {},
     "output_type": "display_data"
    }
   ],
   "source": [
    "label_dict = collect_labels(project_path, prune_empty_labels=True, min_num_frames=10, verbose=False)\n",
    "label_dict = collect_polygons(label_dict)  "
   ]
  },
  {
   "cell_type": "code",
   "execution_count": 7,
   "metadata": {},
   "outputs": [],
   "source": [
    "# for folder, l in label_dict.items():\n",
    "#     print(folder)\n",
    "#     draw_polygons(l, l['video'], \n",
    "#                   max_to_plot=1,\n",
    "#                   randomize=True\n",
    "#                  )   \n",
    "    "
   ]
  },
  {
   "cell_type": "code",
   "execution_count": 8,
   "metadata": {},
   "outputs": [
    {
     "name": "stdout",
     "output_type": "stream",
     "text": [
      "Splitting the data for training into training, validation and testing fractions\n",
      "Processing worm ...\n",
      "Total frames: 99\n",
      "Training set: 69 frames\n",
      "Validation set: 14 frames\n",
      "Test set: 16 frames\n",
      "Processing worm ...\n",
      "Total frames: 57\n",
      "Training set: 39 frames\n",
      "Validation set: 8 frames\n",
      "Test set: 10 frames\n",
      "Processing led ...\n",
      "Total frames: 57\n",
      "Training set: 39 frames\n",
      "Validation set: 8 frames\n",
      "Test set: 10 frames\n",
      "Processing worm ...\n",
      "Total frames: 58\n",
      "Training set: 40 frames\n",
      "Validation set: 8 frames\n",
      "Test set: 10 frames\n",
      "Processing led ...\n",
      "Total frames: 58\n",
      "Training set: 40 frames\n",
      "Validation set: 8 frames\n",
      "Test set: 10 frames\n"
     ]
    }
   ],
   "source": [
    "# Perform the split of the data\n",
    "# And save frames back into 'frames_split' key\n",
    "print('Splitting the data for training into training, validation and testing fractions')  \n",
    "for labels in label_dict.values():\n",
    "    for entry in labels:\n",
    "        if entry == 'video':\n",
    "            continue    \n",
    "        label = labels[entry]['label']\n",
    "        print(f'Processing {label} ...')\n",
    "        frames = labels[entry]['frames']   \n",
    "        split_dict = train_test_val(frames, \n",
    "                                     training_fraction=0.7,\n",
    "                                     validation_fraction=0.15,\n",
    "                                     verbose=True\n",
    "                                     )\n",
    "\n",
    "        labels[entry]['frames_split'] = split_dict"
   ]
  },
  {
   "cell_type": "code",
   "execution_count": 9,
   "metadata": {},
   "outputs": [
    {
     "data": {
      "application/vnd.jupyter.widget-view+json": {
       "model_id": "e957577d2efc44dab27bc79c44aa6a66",
       "version_major": 2,
       "version_minor": 0
      },
      "text/plain": [
       "Exporting 1 labels:   0%|          | 0/1 [00:00<?, ?it/s]"
      ]
     },
     "metadata": {},
     "output_type": "display_data"
    },
    {
     "data": {
      "application/vnd.jupyter.widget-view+json": {
       "model_id": "c572bede48574b4db606f946234fd884",
       "version_major": 2,
       "version_minor": 0
      },
      "text/plain": [
       "Exporting train frames:   0%|          | 0/69 [00:00<?, ?it/s]"
      ]
     },
     "metadata": {},
     "output_type": "display_data"
    },
    {
     "data": {
      "application/vnd.jupyter.widget-view+json": {
       "model_id": "208a0a6a82154125bdc0e70d8d2fcc86",
       "version_major": 2,
       "version_minor": 0
      },
      "text/plain": [
       "Exporting val frames:   0%|          | 0/14 [00:00<?, ?it/s]"
      ]
     },
     "metadata": {},
     "output_type": "display_data"
    },
    {
     "data": {
      "application/vnd.jupyter.widget-view+json": {
       "model_id": "bdc6afa1a85b4c56bcea1f994890327f",
       "version_major": 2,
       "version_minor": 0
      },
      "text/plain": [
       "Exporting test frames:   0%|          | 0/16 [00:00<?, ?it/s]"
      ]
     },
     "metadata": {},
     "output_type": "display_data"
    },
    {
     "data": {
      "application/vnd.jupyter.widget-view+json": {
       "model_id": "cbde847dfec64628972aea4bbb7763f2",
       "version_major": 2,
       "version_minor": 0
      },
      "text/plain": [
       "Exporting 2 labels:   0%|          | 0/2 [00:00<?, ?it/s]"
      ]
     },
     "metadata": {},
     "output_type": "display_data"
    },
    {
     "data": {
      "application/vnd.jupyter.widget-view+json": {
       "model_id": "95a451162fcf42b5b165d1ea09e6a05b",
       "version_major": 2,
       "version_minor": 0
      },
      "text/plain": [
       "Exporting train frames:   0%|          | 0/39 [00:00<?, ?it/s]"
      ]
     },
     "metadata": {},
     "output_type": "display_data"
    },
    {
     "data": {
      "application/vnd.jupyter.widget-view+json": {
       "model_id": "5803177e129641c7ba5dc2c62891e6e0",
       "version_major": 2,
       "version_minor": 0
      },
      "text/plain": [
       "Exporting val frames:   0%|          | 0/8 [00:00<?, ?it/s]"
      ]
     },
     "metadata": {},
     "output_type": "display_data"
    },
    {
     "data": {
      "application/vnd.jupyter.widget-view+json": {
       "model_id": "e19cb798bc424a5fa465e126e7bdd861",
       "version_major": 2,
       "version_minor": 0
      },
      "text/plain": [
       "Exporting test frames:   0%|          | 0/10 [00:00<?, ?it/s]"
      ]
     },
     "metadata": {},
     "output_type": "display_data"
    },
    {
     "data": {
      "application/vnd.jupyter.widget-view+json": {
       "model_id": "66a5ef8a87344f04915fe8151a56ebe4",
       "version_major": 2,
       "version_minor": 0
      },
      "text/plain": [
       "Exporting train frames:   0%|          | 0/39 [00:00<?, ?it/s]"
      ]
     },
     "metadata": {},
     "output_type": "display_data"
    },
    {
     "data": {
      "application/vnd.jupyter.widget-view+json": {
       "model_id": "112fa2a3c6484e8a97b8a7e902f43baf",
       "version_major": 2,
       "version_minor": 0
      },
      "text/plain": [
       "Exporting val frames:   0%|          | 0/8 [00:00<?, ?it/s]"
      ]
     },
     "metadata": {},
     "output_type": "display_data"
    },
    {
     "data": {
      "application/vnd.jupyter.widget-view+json": {
       "model_id": "705d130959ec42259b3a8a074ada257b",
       "version_major": 2,
       "version_minor": 0
      },
      "text/plain": [
       "Exporting test frames:   0%|          | 0/10 [00:00<?, ?it/s]"
      ]
     },
     "metadata": {},
     "output_type": "display_data"
    },
    {
     "data": {
      "application/vnd.jupyter.widget-view+json": {
       "model_id": "ce1b356338c54404b680ebb8011b91cb",
       "version_major": 2,
       "version_minor": 0
      },
      "text/plain": [
       "Exporting 2 labels:   0%|          | 0/2 [00:00<?, ?it/s]"
      ]
     },
     "metadata": {},
     "output_type": "display_data"
    },
    {
     "data": {
      "application/vnd.jupyter.widget-view+json": {
       "model_id": "eb6d772132234b5d911c2b7bacdcdf68",
       "version_major": 2,
       "version_minor": 0
      },
      "text/plain": [
       "Exporting train frames:   0%|          | 0/40 [00:00<?, ?it/s]"
      ]
     },
     "metadata": {},
     "output_type": "display_data"
    },
    {
     "data": {
      "application/vnd.jupyter.widget-view+json": {
       "model_id": "7456287259e34efa9457e18c61a53860",
       "version_major": 2,
       "version_minor": 0
      },
      "text/plain": [
       "Exporting val frames:   0%|          | 0/8 [00:00<?, ?it/s]"
      ]
     },
     "metadata": {},
     "output_type": "display_data"
    },
    {
     "data": {
      "application/vnd.jupyter.widget-view+json": {
       "model_id": "c23cfafe329b43cb989143b3c6b816e1",
       "version_major": 2,
       "version_minor": 0
      },
      "text/plain": [
       "Exporting test frames:   0%|          | 0/10 [00:00<?, ?it/s]"
      ]
     },
     "metadata": {},
     "output_type": "display_data"
    },
    {
     "data": {
      "application/vnd.jupyter.widget-view+json": {
       "model_id": "e9d7ac114def459bacbae03b96ca9efa",
       "version_major": 2,
       "version_minor": 0
      },
      "text/plain": [
       "Exporting train frames:   0%|          | 0/40 [00:00<?, ?it/s]"
      ]
     },
     "metadata": {},
     "output_type": "display_data"
    },
    {
     "data": {
      "application/vnd.jupyter.widget-view+json": {
       "model_id": "8780d18b8b9449bb8f587aee7eda4f3a",
       "version_major": 2,
       "version_minor": 0
      },
      "text/plain": [
       "Exporting val frames:   0%|          | 0/8 [00:00<?, ?it/s]"
      ]
     },
     "metadata": {},
     "output_type": "display_data"
    },
    {
     "data": {
      "application/vnd.jupyter.widget-view+json": {
       "model_id": "18e0d1d283e94021b04a0b50b4fc23c9",
       "version_major": 2,
       "version_minor": 0
      },
      "text/plain": [
       "Exporting test frames:   0%|          | 0/10 [00:00<?, ?it/s]"
      ]
     },
     "metadata": {},
     "output_type": "display_data"
    },
    {
     "name": "stdout",
     "output_type": "stream",
     "text": [
      "Training data exported to /Users/horst/Downloads/octron_project_2/model/training_data\n",
      "YOLO config saved to /Users/horst/Downloads/octron_project_2/model/yolo_config.yaml\n"
     ]
    }
   ],
   "source": [
    "path_to_training = project_path / 'model'\n",
    "try:\n",
    "    path_to_training.mkdir(exist_ok=False)\n",
    "except FileExistsError as e:\n",
    "    # Check if path_to_training_data is empty\n",
    "    if len(list(path_to_training.glob('*'))) > 1:\n",
    "       raise FileExistsError(f'{path_to_training} is not empty. Please remove subfolders first.')\n",
    "    else:\n",
    "        pass\n",
    "\n",
    "path_to_training_data = project_path / 'model' / 'training_data'\n",
    "write_training_data(label_dict, path_to_training_data, verbose=True)\n",
    "\n",
    "dataset_path = path_to_training_data\n",
    "train_path = \"train\"  \n",
    "val_path = \"val\"\n",
    "test_path = \"test\"\n",
    "\n",
    "# Get label names from the object organizer\n",
    "label_id_label_dict = {}\n",
    "for label_id, label_dict in labels.items():\n",
    "    label_id_label_dict[label_id] = label_dict['label']\n",
    "\n",
    "# Write the YAML config\n",
    "config_path = path_to_training / \"yolo_config.yaml\"\n",
    "_ = write_yolo_config_yaml(\n",
    "    output_path=config_path,\n",
    "    dataset_path=dataset_path,\n",
    "    train_path=train_path,\n",
    "    val_path=val_path,\n",
    "    test_path=test_path,\n",
    "    label_dict=label_id_label_dict\n",
    ")"
   ]
  },
  {
   "cell_type": "markdown",
   "metadata": {},
   "source": [
    "## YOLO setup"
   ]
  },
  {
   "cell_type": "code",
   "execution_count": 10,
   "metadata": {},
   "outputs": [],
   "source": [
    "from ultralytics import settings\n",
    "settings.update({'sync':False,'hub':False,'runs_dir':path_to_training.as_posix()})\n",
    "from ultralytics import YOLO"
   ]
  },
  {
   "cell_type": "code",
   "execution_count": null,
   "metadata": {},
   "outputs": [
    {
     "name": "stdout",
     "output_type": "stream",
     "text": [
      "New https://pypi.org/project/ultralytics/8.3.82 available 😃 Update with 'pip install -U ultralytics'\n",
      "Ultralytics 8.3.81 🚀 Python-3.11.11 torch-2.3.1 CPU (Apple M2 Max)\n",
      "\u001b[34m\u001b[1mengine/trainer: \u001b[0mtask=segment, mode=train, model=/Users/horst/Documents/python/OCTRON/octron/yolo_octron/yolo11l-seg.pt, data=/Users/horst/Downloads/octron_project_2/model/yolo_config.yaml, epochs=60, time=None, patience=100, batch=0.9, imgsz=640, save=True, save_period=15, cache=False, device=cpu, workers=8, project=None, name=train, exist_ok=True, pretrained=True, optimizer=auto, verbose=True, seed=0, deterministic=True, single_cls=False, rect=False, cos_lr=False, close_mosaic=10, resume=False, amp=True, fraction=1.0, profile=False, freeze=None, multi_scale=False, overlap_mask=True, mask_ratio=4, dropout=0.0, val=True, split=val, save_json=False, save_hybrid=False, conf=None, iou=0.7, max_det=300, half=False, dnn=False, plots=True, source=None, vid_stride=1, stream_buffer=False, visualize=False, augment=False, agnostic_nms=False, classes=None, retina_masks=False, embed=None, show=False, save_frames=False, save_txt=False, save_conf=False, save_crop=False, show_labels=True, show_conf=True, show_boxes=True, line_width=None, format=torchscript, keras=False, optimize=False, int8=False, dynamic=False, simplify=True, opset=None, workspace=None, nms=False, lr0=0.01, lrf=0.01, momentum=0.937, weight_decay=0.0005, warmup_epochs=3.0, warmup_momentum=0.8, warmup_bias_lr=0.1, box=7.5, cls=0.5, dfl=1.5, pose=12.0, kobj=1.0, nbs=64, hsv_h=0.015, hsv_s=0.7, hsv_v=0.25, degrees=180, translate=0.1, scale=0.5, shear=2, perspective=0.0, flipud=0.1, fliplr=0.1, bgr=0.0, mosaic=1.0, mixup=0.0, copy_paste=0.5, copy_paste_mode=mixup, auto_augment=randaugment, erasing=0.25, crop_fraction=1.0, cfg=None, tracker=botsort.yaml, save_dir=/Users/horst/Downloads/octron_project_2/model/segment/train\n",
      "Overriding model.yaml nc=80 with nc=2\n",
      "\n",
      "                   from  n    params  module                                       arguments                     \n",
      "  0                  -1  1      1856  ultralytics.nn.modules.conv.Conv             [3, 64, 3, 2]                 \n",
      "  1                  -1  1     73984  ultralytics.nn.modules.conv.Conv             [64, 128, 3, 2]               \n",
      "  2                  -1  2    173824  ultralytics.nn.modules.block.C3k2            [128, 256, 2, True, 0.25]     \n",
      "  3                  -1  1    590336  ultralytics.nn.modules.conv.Conv             [256, 256, 3, 2]              \n",
      "  4                  -1  2    691712  ultralytics.nn.modules.block.C3k2            [256, 512, 2, True, 0.25]     \n",
      "  5                  -1  1   2360320  ultralytics.nn.modules.conv.Conv             [512, 512, 3, 2]              \n",
      "  6                  -1  2   2234368  ultralytics.nn.modules.block.C3k2            [512, 512, 2, True]           \n",
      "  7                  -1  1   2360320  ultralytics.nn.modules.conv.Conv             [512, 512, 3, 2]              \n",
      "  8                  -1  2   2234368  ultralytics.nn.modules.block.C3k2            [512, 512, 2, True]           \n",
      "  9                  -1  1    656896  ultralytics.nn.modules.block.SPPF            [512, 512, 5]                 \n",
      " 10                  -1  2   1455616  ultralytics.nn.modules.block.C2PSA           [512, 512, 2]                 \n",
      " 11                  -1  1         0  torch.nn.modules.upsampling.Upsample         [None, 2, 'nearest']          \n",
      " 12             [-1, 6]  1         0  ultralytics.nn.modules.conv.Concat           [1]                           \n",
      " 13                  -1  2   2496512  ultralytics.nn.modules.block.C3k2            [1024, 512, 2, True]          \n",
      " 14                  -1  1         0  torch.nn.modules.upsampling.Upsample         [None, 2, 'nearest']          \n",
      " 15             [-1, 4]  1         0  ultralytics.nn.modules.conv.Concat           [1]                           \n",
      " 16                  -1  2    756736  ultralytics.nn.modules.block.C3k2            [1024, 256, 2, True]          \n",
      " 17                  -1  1    590336  ultralytics.nn.modules.conv.Conv             [256, 256, 3, 2]              \n",
      " 18            [-1, 13]  1         0  ultralytics.nn.modules.conv.Concat           [1]                           \n",
      " 19                  -1  2   2365440  ultralytics.nn.modules.block.C3k2            [768, 512, 2, True]           \n",
      " 20                  -1  1   2360320  ultralytics.nn.modules.conv.Conv             [512, 512, 3, 2]              \n",
      " 21            [-1, 10]  1         0  ultralytics.nn.modules.conv.Concat           [1]                           \n",
      " 22                  -1  2   2496512  ultralytics.nn.modules.block.C3k2            [1024, 512, 2, True]          \n",
      " 23        [16, 19, 22]  1   3718774  ultralytics.nn.modules.head.Segment          [2, 32, 256, [256, 512, 512]] \n",
      "YOLO11l-seg summary: 379 layers, 27,618,230 parameters, 27,618,214 gradients, 142.7 GFLOPs\n",
      "\n",
      "Transferred 1071/1077 items from pretrained weights\n",
      "\u001b[34m\u001b[1mTensorBoard: \u001b[0mStart with 'tensorboard --logdir /Users/horst/Downloads/octron_project_2/model/segment/train', view at http://localhost:6006/\n",
      "Freezing layer 'model.23.dfl.conv.weight'\n"
     ]
    },
    {
     "name": "stderr",
     "output_type": "stream",
     "text": [
      "\u001b[34m\u001b[1mtrain: \u001b[0mScanning /Users/horst/Downloads/octron_project_2/model/training_data/train... 148 images, 0 backgrounds, 0 corrupt: 100%|██████████| 148/148 [00:00<00:00, 1892.20it/s]"
     ]
    },
    {
     "name": "stdout",
     "output_type": "stream",
     "text": [
      "\u001b[34m\u001b[1mtrain: \u001b[0mNew cache created: /Users/horst/Downloads/octron_project_2/model/training_data/train.cache\n",
      "\u001b[34m\u001b[1mAutoBatch: \u001b[0mComputing optimal batch size for imgsz=640 at 90.0% CUDA memory utilization.\n",
      "\u001b[34m\u001b[1mAutoBatch: \u001b[0m ⚠️ intended for CUDA devices, using default batch-size 16\n"
     ]
    },
    {
     "name": "stderr",
     "output_type": "stream",
     "text": [
      "\n",
      "\u001b[34m\u001b[1mtrain: \u001b[0mScanning /Users/horst/Downloads/octron_project_2/model/training_data/train.cache... 148 images, 0 backgrounds, 0 corrupt: 100%|██████████| 148/148 [00:00<?, ?it/s]\n",
      "\u001b[34m\u001b[1mval: \u001b[0mScanning /Users/horst/Downloads/octron_project_2/model/training_data/val... 30 images, 0 backgrounds, 0 corrupt: 100%|██████████| 30/30 [00:00<00:00, 978.76it/s]"
     ]
    },
    {
     "name": "stdout",
     "output_type": "stream",
     "text": [
      "\u001b[34m\u001b[1mval: \u001b[0mNew cache created: /Users/horst/Downloads/octron_project_2/model/training_data/val.cache\n"
     ]
    },
    {
     "name": "stderr",
     "output_type": "stream",
     "text": [
      "\n"
     ]
    },
    {
     "name": "stdout",
     "output_type": "stream",
     "text": [
      "Plotting labels to /Users/horst/Downloads/octron_project_2/model/segment/train/labels.jpg... \n",
      "\u001b[34m\u001b[1moptimizer:\u001b[0m 'optimizer=auto' found, ignoring 'lr0=0.01' and 'momentum=0.937' and determining best 'optimizer', 'lr0' and 'momentum' automatically... \n",
      "\u001b[34m\u001b[1moptimizer:\u001b[0m AdamW(lr=0.001667, momentum=0.9) with parameter groups 176 weight(decay=0.0), 187 weight(decay=0.0005), 186 bias(decay=0.0)\n",
      "\u001b[34m\u001b[1mTensorBoard: \u001b[0mmodel graph visualization added ✅\n",
      "Image sizes 640 train, 640 val\n",
      "Using 0 dataloader workers\n",
      "Logging results to \u001b[1m/Users/horst/Downloads/octron_project_2/model/segment/train\u001b[0m\n",
      "Starting training for 60 epochs...\n",
      "\n",
      "      Epoch    GPU_mem   box_loss   seg_loss   cls_loss   dfl_loss  Instances       Size\n"
     ]
    },
    {
     "name": "stderr",
     "output_type": "stream",
     "text": [
      "       1/60         0G     0.8698      1.417      3.291     0.9354         68        640:  50%|█████     | 5/10 [03:01<03:01, 36.35s/it]"
     ]
    }
   ],
   "source": [
    "# Load a model\n",
    "model = YOLO(path_to_model)  # load a pretrained model (recommended for training)\n",
    "# Train the model\n",
    "# https://docs.ultralytics.com/usage/cfg/#solutions-settings\n",
    "results = model.train(data=config_path, \n",
    "                      save_dir=path_to_training.as_posix(),\n",
    "                      device='cpu',\n",
    "                      mask_ratio=4,\n",
    "                      epochs=60,\n",
    "                      imgsz=640,\n",
    "                      resume=False,\n",
    "                      plots=True,\n",
    "                      batch=.9,\n",
    "                      cache=False,\n",
    "                      save=True,\n",
    "                      save_period=15,\n",
    "                      project=None,\n",
    "                      name=None,\n",
    "                      exist_ok=True,\n",
    "                      # augmentation\n",
    "                      hsv_v=.25,\n",
    "                      degrees=180,\n",
    "                      scale=.5,\n",
    "                      shear=2,\n",
    "                      flipud=.1,\n",
    "                      fliplr=.1,\n",
    "                      mosaic=1.0,\n",
    "                      copy_paste=.5,\n",
    "                      copy_paste_mode='mixup', \n",
    "                      erasing=.25,\n",
    "                      crop_fraction=1.0,\n",
    "                      )"
   ]
  },
  {
   "cell_type": "code",
   "execution_count": null,
   "metadata": {},
   "outputs": [],
   "source": [
    "# model = YOLO('/Users/horst/Downloads/octron_project/octron_training/yolo runs/segment/train/weights/last.pt')  #"
   ]
  },
  {
   "cell_type": "code",
   "execution_count": null,
   "metadata": {},
   "outputs": [],
   "source": [
    "# metrics = model.val(device='cpu', plots=True)"
   ]
  },
  {
   "cell_type": "code",
   "execution_count": null,
   "metadata": {},
   "outputs": [],
   "source": [
    "# print(\"Mean Average Precision for boxes:\", metrics.box.map)\n",
    "# print(\"Mean Average Precision for masks:\", metrics.seg.map)"
   ]
  },
  {
   "cell_type": "code",
   "execution_count": null,
   "metadata": {},
   "outputs": [],
   "source": [
    "# # Run inference on 'bus.jpg' with arguments\n",
    "# model.predict('/Users/horst/Downloads/octron_project/test data/8_behaviour_filtered2024-11-04T14_20_34_20240930_Th19.mp4', \n",
    "#               save=True, \n",
    "#               classes=[0],\n",
    "#               imgsz=1000, \n",
    "#               device='cpu',\n",
    "#               visualize=False,\n",
    "#               conf=0.9\n",
    "#               )"
   ]
  },
  {
   "cell_type": "code",
   "execution_count": null,
   "metadata": {},
   "outputs": [],
   "source": [
    "# # Train/val/test sets as \n",
    "# 1) dir: path/to/imgs, \n",
    "# 2) file: path/to/imgs.txt, or list: [path/to/imgs1, path/to/imgs2, ..]\n",
    "# path: ../datasets/coco8-seg # dataset root dir (absolute or relative; if relative, it's relative to default datasets_dir)\n",
    "# train: images/train # train images (relative to 'path') 4 images\n",
    "# val: images/val # val images (relative to 'path') 4 images\n",
    "# test: # test images (optional)\n"
   ]
  },
  {
   "cell_type": "code",
   "execution_count": null,
   "metadata": {},
   "outputs": [],
   "source": []
  }
 ],
 "metadata": {
  "kernelspec": {
   "display_name": "sam2",
   "language": "python",
   "name": "python3"
  },
  "language_info": {
   "codemirror_mode": {
    "name": "ipython",
    "version": 3
   },
   "file_extension": ".py",
   "mimetype": "text/x-python",
   "name": "python",
   "nbconvert_exporter": "python",
   "pygments_lexer": "ipython3",
   "version": "3.11.11"
  }
 },
 "nbformat": 4,
 "nbformat_minor": 2
}

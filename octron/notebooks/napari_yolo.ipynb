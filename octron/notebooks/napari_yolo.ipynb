{
 "cells": [
  {
   "cell_type": "markdown",
   "metadata": {
    "vscode": {
     "languageId": "plaintext"
    }
   },
   "source": [
    "### Yolo11 tests"
   ]
  },
  {
   "cell_type": "code",
   "execution_count": 1,
   "metadata": {},
   "outputs": [],
   "source": [
    "%load_ext autoreload\n",
    "%autoreload 2"
   ]
  },
  {
   "cell_type": "code",
   "execution_count": 2,
   "metadata": {},
   "outputs": [],
   "source": [
    "import os , sys\n",
    "import shutil\n",
    "from tqdm.auto import tqdm  \n",
    "sys.path.append('..')\n",
    "from pathlib import Path\n",
    "cur_path = Path(os.getcwd()).parent\n",
    "sam2_path = cur_path / 'sam2_octron'\n",
    "sys.path.append(cur_path.as_posix())\n",
    "from matplotlib import pyplot as plt\n",
    "import cmasher as cmr\n",
    "import numpy as np\n",
    "import seaborn as sns\n",
    "sns.set_theme(style='white')\n",
    "%config InlineBackend.figure_format = 'retina'"
   ]
  },
  {
   "cell_type": "code",
   "execution_count": 3,
   "metadata": {},
   "outputs": [],
   "source": [
    "# Object organizer\n",
    "# #### Importing additional stuff \n",
    "# from skimage import measure\n",
    "# from skimage.draw import polygon2mask"
   ]
  },
  {
   "cell_type": "code",
   "execution_count": 4,
   "metadata": {},
   "outputs": [],
   "source": [
    "from napari_pyav._reader import FastVideoReader\n",
    "from octron.sam2_octron.helpers.video_loader import probe_video\n",
    "from octron.yolo_octron.helpers.training import (load_object_organizer, \n",
    "                                                 collect_labels, \n",
    "                                                 draw_polygons,\n",
    "                                                 train_test_val,\n",
    "                                                 write_training_data,\n",
    "                                                 write_yolo_config_yaml,\n",
    "                                                 \n",
    ")"
   ]
  },
  {
   "cell_type": "code",
   "execution_count": 5,
   "metadata": {},
   "outputs": [
    {
     "name": "stdout",
     "output_type": "stream",
     "text": [
      "File: /Users/horst/Downloads/octron_project/first_half.mp4\n",
      "Codec: h264\n",
      "Resolution: 1000 x 1000\n",
      "Frame Rate: 7\n",
      "Number of frames: 2036\n",
      "Duration: 290.86 seconds\n"
     ]
    }
   ],
   "source": [
    "# Presaved model (YOLOv11)\n",
    "path_to_model = Path('/Users/horst/Documents/python/OCTRON/octron/yolo_octron/yolo11l-seg.pt')\n",
    "# Output data from annotation in OCTRON\n",
    "path_to_json_organizer = Path('/Users/horst/Downloads/octron_project/object_organizer.json')\n",
    "# Video\n",
    "path_to_video = Path('/Users/horst/Downloads/octron_project/first_half.mp4')\n",
    "\n",
    "# Training data path \n",
    "path_to_training_root = path_to_json_organizer.parent / 'octron_training'\n",
    "path_to_training_root.mkdir(exist_ok=True)\n",
    "\n",
    "# Video reader \n",
    "video_dict = probe_video(path_to_video)\n",
    "video_data = FastVideoReader(path_to_video)  "
   ]
  },
  {
   "cell_type": "markdown",
   "metadata": {},
   "source": [
    "### Process training data"
   ]
  },
  {
   "cell_type": "code",
   "execution_count": 6,
   "metadata": {},
   "outputs": [
    {
     "name": "stdout",
     "output_type": "stream",
     "text": [
      "📖 Octron object organizer loaded from /Users/horst/Downloads/octron_project/object_organizer.json\n",
      "Label wormsy has 263 annotated frames\n",
      "Label handle has 263 annotated frames\n"
     ]
    },
    {
     "data": {
      "application/vnd.jupyter.widget-view+json": {
       "model_id": "5ba3110cafe6486e80f9c666b5a1a1f6",
       "version_major": 2,
       "version_minor": 0
      },
      "text/plain": [
       "Polygons for label wormsy:   0%|          | 0/263 [00:00<?, ?it/s]"
      ]
     },
     "metadata": {},
     "output_type": "display_data"
    },
    {
     "data": {
      "application/vnd.jupyter.widget-view+json": {
       "model_id": "a42236ea36b84723acea7d2df17a92c9",
       "version_major": 2,
       "version_minor": 0
      },
      "text/plain": [
       "Polygons for label handle:   0%|          | 0/263 [00:00<?, ?it/s]"
      ]
     },
     "metadata": {},
     "output_type": "display_data"
    }
   ],
   "source": [
    "organizer_dict = load_object_organizer(path_to_json_organizer)  \n",
    "assert organizer_dict is not None\n",
    "labels = collect_labels(organizer_dict,\n",
    "                        expected_num_frames=video_dict['num_frames'],\n",
    "                        expected_image_height=video_dict['height'],\n",
    "                        expected_image_width=video_dict['width'],\n",
    "                        )"
   ]
  },
  {
   "cell_type": "code",
   "execution_count": 7,
   "metadata": {},
   "outputs": [],
   "source": [
    "#draw_polygons(labels, video_data, 2)"
   ]
  },
  {
   "cell_type": "code",
   "execution_count": 8,
   "metadata": {},
   "outputs": [
    {
     "name": "stdout",
     "output_type": "stream",
     "text": [
      "Splitting the data for training into training, validation and testing fractions\n",
      "wormsy\n",
      "Total frames: 263\n",
      "Training set: 210 frames\n",
      "Validation set: 26 frames\n",
      "Test set: 27 frames\n",
      "handle\n",
      "Total frames: 263\n",
      "Training set: 210 frames\n",
      "Validation set: 26 frames\n",
      "Test set: 27 frames\n"
     ]
    }
   ],
   "source": [
    "# Perform the split of the data\n",
    "# .. 80% training, 10% validation and 10% testing\n",
    "print('Splitting the data for training into training, validation and testing fractions')  \n",
    "for label_id, label_dict in labels.items():\n",
    "    print(label_dict['label'])\n",
    "    label_split = train_test_val(label_dict['frames'], \n",
    "                                 training_fraction=0.8,\n",
    "                                 validation_fraction=0.1,\n",
    "                                 verbose=True)\n",
    "    labels[label_id]['frames_split'] = label_split"
   ]
  },
  {
   "cell_type": "code",
   "execution_count": 9,
   "metadata": {},
   "outputs": [
    {
     "data": {
      "application/vnd.jupyter.widget-view+json": {
       "model_id": "a014d3fe56474103a9a4075577b1ff1a",
       "version_major": 2,
       "version_minor": 0
      },
      "text/plain": [
       "Exporting 2 labels:   0%|          | 0/2 [00:00<?, ?it/s]"
      ]
     },
     "metadata": {},
     "output_type": "display_data"
    },
    {
     "data": {
      "application/vnd.jupyter.widget-view+json": {
       "model_id": "598a98c5fd004ba8b9ccc02887acd4f7",
       "version_major": 2,
       "version_minor": 0
      },
      "text/plain": [
       "Exporting train frames:   0%|          | 0/210 [00:00<?, ?it/s]"
      ]
     },
     "metadata": {},
     "output_type": "display_data"
    },
    {
     "data": {
      "application/vnd.jupyter.widget-view+json": {
       "model_id": "c6b83299a8384592846c0ee216fe025a",
       "version_major": 2,
       "version_minor": 0
      },
      "text/plain": [
       "Exporting val frames:   0%|          | 0/26 [00:00<?, ?it/s]"
      ]
     },
     "metadata": {},
     "output_type": "display_data"
    },
    {
     "data": {
      "application/vnd.jupyter.widget-view+json": {
       "model_id": "34726b4aa80641b29e2c0162e14fdcee",
       "version_major": 2,
       "version_minor": 0
      },
      "text/plain": [
       "Exporting test frames:   0%|          | 0/27 [00:00<?, ?it/s]"
      ]
     },
     "metadata": {},
     "output_type": "display_data"
    },
    {
     "data": {
      "application/vnd.jupyter.widget-view+json": {
       "model_id": "dd734cc522df4db09a2f59f8a7b58692",
       "version_major": 2,
       "version_minor": 0
      },
      "text/plain": [
       "Exporting train frames:   0%|          | 0/210 [00:00<?, ?it/s]"
      ]
     },
     "metadata": {},
     "output_type": "display_data"
    },
    {
     "data": {
      "application/vnd.jupyter.widget-view+json": {
       "model_id": "9ce09d5dc51e453c9ba5c4fe6220a1f5",
       "version_major": 2,
       "version_minor": 0
      },
      "text/plain": [
       "Exporting val frames:   0%|          | 0/26 [00:00<?, ?it/s]"
      ]
     },
     "metadata": {},
     "output_type": "display_data"
    },
    {
     "data": {
      "application/vnd.jupyter.widget-view+json": {
       "model_id": "4432d3acd49a48e48df414d4cc056cce",
       "version_major": 2,
       "version_minor": 0
      },
      "text/plain": [
       "Exporting test frames:   0%|          | 0/27 [00:00<?, ?it/s]"
      ]
     },
     "metadata": {},
     "output_type": "display_data"
    },
    {
     "name": "stdout",
     "output_type": "stream",
     "text": [
      "Training data exported to /Users/horst/Downloads/octron_project/octron_training\n"
     ]
    }
   ],
   "source": [
    "# Now export the data to the respective directories\n",
    "# We need to export the images and the labels\n",
    "for split in ['train', 'val', 'test']:\n",
    "    path_to_split = path_to_training_root / split\n",
    "    try:\n",
    "        path_to_split.mkdir(exist_ok=False)\n",
    "    except FileExistsError:\n",
    "        shutil.rmtree(path_to_split)    \n",
    "        path_to_split.mkdir()\n",
    "\n",
    "write_training_data(labels,\n",
    "                    path_to_training_root,\n",
    "                    video_data,\n",
    ")"
   ]
  },
  {
   "cell_type": "code",
   "execution_count": 10,
   "metadata": {},
   "outputs": [
    {
     "name": "stdout",
     "output_type": "stream",
     "text": [
      "YOLO config saved to /Users/horst/Downloads/octron_project/octron_training/yolo_config.yaml\n"
     ]
    },
    {
     "data": {
      "text/plain": [
       "PosixPath('/Users/horst/Downloads/octron_project/octron_training/yolo_config.yaml')"
      ]
     },
     "execution_count": 10,
     "metadata": {},
     "output_type": "execute_result"
    }
   ],
   "source": [
    "# Example usage\n",
    "dataset_path = path_to_training_root\n",
    "train_path = \"train\"  \n",
    "val_path = \"val\"\n",
    "test_path = \"test\"\n",
    "\n",
    "# Get label names from your object organizer\n",
    "label_id_label_dict = {}\n",
    "for label_id, label_dict in labels.items():\n",
    "    label_id_label_dict[label_id] = label_dict['label']\n",
    "\n",
    "# Write the YAML config\n",
    "config_path = path_to_training_root / \"yolo_config.yaml\"\n",
    "write_yolo_config_yaml(\n",
    "    output_path=config_path,\n",
    "    dataset_path=dataset_path,\n",
    "    train_path=train_path,\n",
    "    val_path=val_path,\n",
    "    test_path=test_path,\n",
    "    label_dict=label_id_label_dict\n",
    ")"
   ]
  },
  {
   "cell_type": "markdown",
   "metadata": {},
   "source": [
    "## YOLO setup"
   ]
  },
  {
   "cell_type": "code",
   "execution_count": 17,
   "metadata": {},
   "outputs": [],
   "source": [
    "settings.update()"
   ]
  },
  {
   "cell_type": "code",
   "execution_count": 18,
   "metadata": {},
   "outputs": [],
   "source": [
    "from ultralytics import YOLO\n",
    "from ultralytics import settings\n",
    "settings.update({'sync': False,'hub':False, })\n",
    "runs_output_dir = config_path.parent / 'yolo runs'   \n",
    "settings.update({'datasets_dir': '','weights_dir':'', 'runs_dir': runs_output_dir.as_posix()})\n",
    "settings.update()"
   ]
  },
  {
   "cell_type": "code",
   "execution_count": null,
   "metadata": {},
   "outputs": [
    {
     "name": "stdout",
     "output_type": "stream",
     "text": [
      "Ultralytics 8.3.81 🚀 Python-3.11.11 torch-2.3.1 MPS (Apple M2 Max)\n",
      "\u001b[34m\u001b[1mengine/trainer: \u001b[0mtask=segment, mode=train, model=/Users/horst/Documents/python/OCTRON/octron/yolo_octron/yolo11l-seg.pt, data=/Users/horst/Downloads/octron_project/octron_training/yolo_config.yaml, epochs=100, time=None, patience=100, batch=0.75, imgsz=1000, save=True, save_period=25, cache=False, device=mps, workers=8, project=None, name=train, exist_ok=True, pretrained=True, optimizer=auto, verbose=True, seed=0, deterministic=True, single_cls=False, rect=False, cos_lr=False, close_mosaic=10, resume=False, amp=True, fraction=1.0, profile=False, freeze=None, multi_scale=False, overlap_mask=True, mask_ratio=2, dropout=0.0, val=True, split=val, save_json=False, save_hybrid=False, conf=None, iou=0.7, max_det=300, half=False, dnn=False, plots=True, source=None, vid_stride=1, stream_buffer=False, visualize=False, augment=False, agnostic_nms=False, classes=None, retina_masks=False, embed=None, show=False, save_frames=False, save_txt=False, save_conf=False, save_crop=False, show_labels=True, show_conf=True, show_boxes=True, line_width=None, format=torchscript, keras=False, optimize=False, int8=False, dynamic=False, simplify=True, opset=None, workspace=None, nms=False, lr0=0.01, lrf=0.01, momentum=0.937, weight_decay=0.0005, warmup_epochs=3.0, warmup_momentum=0.8, warmup_bias_lr=0.1, box=7.5, cls=0.5, dfl=1.5, pose=12.0, kobj=1.0, nbs=64, hsv_h=0.015, hsv_s=0.7, hsv_v=0.25, degrees=180, translate=0.1, scale=0.5, shear=2, perspective=0.0, flipud=0.1, fliplr=0.1, bgr=0.0, mosaic=1.0, mixup=0.0, copy_paste=0.5, copy_paste_mode=mixup, auto_augment=randaugment, erasing=0.25, crop_fraction=1.0, cfg=None, tracker=botsort.yaml, save_dir=/Users/horst/Downloads/octron_project/octron_training/yolo runs/segment/train\n",
      "Overriding model.yaml nc=80 with nc=2\n",
      "\n",
      "                   from  n    params  module                                       arguments                     \n",
      "  0                  -1  1      1856  ultralytics.nn.modules.conv.Conv             [3, 64, 3, 2]                 \n",
      "  1                  -1  1     73984  ultralytics.nn.modules.conv.Conv             [64, 128, 3, 2]               \n",
      "  2                  -1  2    173824  ultralytics.nn.modules.block.C3k2            [128, 256, 2, True, 0.25]     \n",
      "  3                  -1  1    590336  ultralytics.nn.modules.conv.Conv             [256, 256, 3, 2]              \n",
      "  4                  -1  2    691712  ultralytics.nn.modules.block.C3k2            [256, 512, 2, True, 0.25]     \n",
      "  5                  -1  1   2360320  ultralytics.nn.modules.conv.Conv             [512, 512, 3, 2]              \n",
      "  6                  -1  2   2234368  ultralytics.nn.modules.block.C3k2            [512, 512, 2, True]           \n",
      "  7                  -1  1   2360320  ultralytics.nn.modules.conv.Conv             [512, 512, 3, 2]              \n",
      "  8                  -1  2   2234368  ultralytics.nn.modules.block.C3k2            [512, 512, 2, True]           \n",
      "  9                  -1  1    656896  ultralytics.nn.modules.block.SPPF            [512, 512, 5]                 \n",
      " 10                  -1  2   1455616  ultralytics.nn.modules.block.C2PSA           [512, 512, 2]                 \n",
      " 11                  -1  1         0  torch.nn.modules.upsampling.Upsample         [None, 2, 'nearest']          \n",
      " 12             [-1, 6]  1         0  ultralytics.nn.modules.conv.Concat           [1]                           \n",
      " 13                  -1  2   2496512  ultralytics.nn.modules.block.C3k2            [1024, 512, 2, True]          \n",
      " 14                  -1  1         0  torch.nn.modules.upsampling.Upsample         [None, 2, 'nearest']          \n",
      " 15             [-1, 4]  1         0  ultralytics.nn.modules.conv.Concat           [1]                           \n",
      " 16                  -1  2    756736  ultralytics.nn.modules.block.C3k2            [1024, 256, 2, True]          \n",
      " 17                  -1  1    590336  ultralytics.nn.modules.conv.Conv             [256, 256, 3, 2]              \n",
      " 18            [-1, 13]  1         0  ultralytics.nn.modules.conv.Concat           [1]                           \n",
      " 19                  -1  2   2365440  ultralytics.nn.modules.block.C3k2            [768, 512, 2, True]           \n",
      " 20                  -1  1   2360320  ultralytics.nn.modules.conv.Conv             [512, 512, 3, 2]              \n",
      " 21            [-1, 10]  1         0  ultralytics.nn.modules.conv.Concat           [1]                           \n",
      " 22                  -1  2   2496512  ultralytics.nn.modules.block.C3k2            [1024, 512, 2, True]          \n",
      " 23        [16, 19, 22]  1   3718774  ultralytics.nn.modules.head.Segment          [2, 32, 256, [256, 512, 512]] \n",
      "YOLO11l-seg summary: 379 layers, 27,618,230 parameters, 27,618,214 gradients, 142.7 GFLOPs\n",
      "\n",
      "Transferred 1071/1077 items from pretrained weights\n",
      "\u001b[34m\u001b[1mTensorBoard: \u001b[0mStart with 'tensorboard --logdir /Users/horst/Downloads/octron_project/octron_training/yolo runs/segment/train', view at http://localhost:6006/\n",
      "Freezing layer 'model.23.dfl.conv.weight'\n",
      "WARNING ⚠️ imgsz=[1000] must be multiple of max stride 32, updating to [1024]\n"
     ]
    },
    {
     "name": "stderr",
     "output_type": "stream",
     "text": [
      "\u001b[34m\u001b[1mtrain: \u001b[0mScanning /Users/horst/Downloads/octron_project/octron_training/train... 210 images, 0 backgrounds, 0 corrupt: 100%|██████████| 210/210 [00:00<00:00, 2684.18it/s]"
     ]
    },
    {
     "name": "stdout",
     "output_type": "stream",
     "text": [
      "\u001b[34m\u001b[1mtrain: \u001b[0mNew cache created: /Users/horst/Downloads/octron_project/octron_training/train.cache\n",
      "\u001b[34m\u001b[1mAutoBatch: \u001b[0mComputing optimal batch size for imgsz=1024 at 75.0% CUDA memory utilization.\n",
      "\u001b[34m\u001b[1mAutoBatch: \u001b[0m ⚠️ intended for CUDA devices, using default batch-size 16\n"
     ]
    },
    {
     "name": "stderr",
     "output_type": "stream",
     "text": [
      "\n",
      "\u001b[34m\u001b[1mtrain: \u001b[0mScanning /Users/horst/Downloads/octron_project/octron_training/train.cache... 210 images, 0 backgrounds, 0 corrupt: 100%|██████████| 210/210 [00:00<?, ?it/s]\n",
      "\u001b[34m\u001b[1mval: \u001b[0mScanning /Users/horst/Downloads/octron_project/octron_training/val... 26 images, 0 backgrounds, 0 corrupt: 100%|██████████| 26/26 [00:00<00:00, 2513.82it/s]"
     ]
    },
    {
     "name": "stdout",
     "output_type": "stream",
     "text": [
      "\u001b[34m\u001b[1mval: \u001b[0mNew cache created: /Users/horst/Downloads/octron_project/octron_training/val.cache\n",
      "Plotting labels to /Users/horst/Downloads/octron_project/octron_training/yolo runs/segment/train/labels.jpg... \n"
     ]
    },
    {
     "name": "stderr",
     "output_type": "stream",
     "text": [
      "\n"
     ]
    },
    {
     "name": "stdout",
     "output_type": "stream",
     "text": [
      "\u001b[34m\u001b[1moptimizer:\u001b[0m 'optimizer=auto' found, ignoring 'lr0=0.01' and 'momentum=0.937' and determining best 'optimizer', 'lr0' and 'momentum' automatically... \n",
      "\u001b[34m\u001b[1moptimizer:\u001b[0m AdamW(lr=0.001667, momentum=0.9) with parameter groups 176 weight(decay=0.0), 187 weight(decay=0.0005), 186 bias(decay=0.0)\n",
      "\u001b[34m\u001b[1mTensorBoard: \u001b[0mmodel graph visualization added ✅\n",
      "Image sizes 1024 train, 1024 val\n",
      "Using 0 dataloader workers\n",
      "Logging results to \u001b[1m/Users/horst/Downloads/octron_project/octron_training/yolo runs/segment/train\u001b[0m\n",
      "Starting training for 100 epochs...\n",
      "\n",
      "      Epoch    GPU_mem   box_loss   seg_loss   cls_loss   dfl_loss  Instances       Size\n"
     ]
    },
    {
     "name": "stderr",
     "output_type": "stream",
     "text": [
      "  0%|          | 0/14 [00:00<?, ?it/s]"
     ]
    }
   ],
   "source": [
    "# Load a model\n",
    "model = YOLO(path_to_model)  # load a pretrained model (recommended for training)\n",
    "# Train the model\n",
    "# https://docs.ultralytics.com/usage/cfg/#solutions-settings\n",
    "results = model.train(data=config_path, \n",
    "                      save_dir=runs_output_dir.as_posix(),\n",
    "                      device='mps',\n",
    "                      mask_ratio=2,\n",
    "                      epochs=100,\n",
    "                      imgsz=1000,\n",
    "                      resume=False,\n",
    "                      plots=True,\n",
    "                      batch=.75,\n",
    "                      cache=False,\n",
    "                      save=True,\n",
    "                      save_period=25,\n",
    "                      project=None,\n",
    "                      name=None,\n",
    "                      exist_ok=True,\n",
    "                      # augmentation\n",
    "                      hsv_v=.25,\n",
    "                      degrees=180,\n",
    "                      scale=.5,\n",
    "                      shear=2,\n",
    "                      flipud=.1,\n",
    "                      fliplr=.1,\n",
    "                      mosaic=1.0,\n",
    "                      copy_paste=.5,\n",
    "                      copy_paste_mode='mixup', \n",
    "                      erasing=.25,\n",
    "                      crop_fraction=1.0,\n",
    "                      )"
   ]
  },
  {
   "cell_type": "code",
   "execution_count": null,
   "metadata": {},
   "outputs": [],
   "source": []
  },
  {
   "cell_type": "code",
   "execution_count": null,
   "metadata": {},
   "outputs": [],
   "source": []
  },
  {
   "cell_type": "code",
   "execution_count": 13,
   "metadata": {},
   "outputs": [],
   "source": [
    "#model = YOLO(path_to_model)  # load a pretrained model (recommended for training)\n"
   ]
  },
  {
   "cell_type": "code",
   "execution_count": 14,
   "metadata": {},
   "outputs": [],
   "source": [
    "# # Train/val/test sets as \n",
    "# 1) dir: path/to/imgs, \n",
    "# 2) file: path/to/imgs.txt, or list: [path/to/imgs1, path/to/imgs2, ..]\n",
    "# path: ../datasets/coco8-seg # dataset root dir (absolute or relative; if relative, it's relative to default datasets_dir)\n",
    "# train: images/train # train images (relative to 'path') 4 images\n",
    "# val: images/val # val images (relative to 'path') 4 images\n",
    "# test: # test images (optional)\n"
   ]
  },
  {
   "cell_type": "code",
   "execution_count": null,
   "metadata": {},
   "outputs": [],
   "source": []
  }
 ],
 "metadata": {
  "kernelspec": {
   "display_name": "sam2",
   "language": "python",
   "name": "python3"
  },
  "language_info": {
   "codemirror_mode": {
    "name": "ipython",
    "version": 3
   },
   "file_extension": ".py",
   "mimetype": "text/x-python",
   "name": "python",
   "nbconvert_exporter": "python",
   "pygments_lexer": "ipython3",
   "version": "3.11.11"
  }
 },
 "nbformat": 4,
 "nbformat_minor": 2
}

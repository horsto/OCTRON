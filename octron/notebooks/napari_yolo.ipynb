{
 "cells": [
  {
   "cell_type": "markdown",
   "metadata": {
    "vscode": {
     "languageId": "plaintext"
    }
   },
   "source": [
    "## Yolo11 tests"
   ]
  },
  {
   "cell_type": "code",
   "execution_count": 1,
   "metadata": {},
   "outputs": [],
   "source": [
    "%load_ext autoreload\n",
    "%autoreload 2"
   ]
  },
  {
   "cell_type": "code",
   "execution_count": 2,
   "metadata": {},
   "outputs": [],
   "source": [
    "import os , sys\n",
    "sys.path.append('..')\n",
    "from pathlib import Path\n",
    "cur_path = Path(os.getcwd()).parent\n",
    "sam2_path = cur_path / 'sam2_octron'\n",
    "sys.path.append(cur_path.as_posix())\n",
    "from matplotlib import pyplot as plt\n",
    "import cmasher as cmr\n",
    "import numpy as np\n",
    "import seaborn as sns\n",
    "sns.set_theme(style='white')\n",
    "%config InlineBackend.figure_format = 'retina'"
   ]
  },
  {
   "cell_type": "code",
   "execution_count": 3,
   "metadata": {},
   "outputs": [],
   "source": [
    "from octron.yolo_octron.yolo_octron import YOLO_octron\n",
    "from octron.yolo_octron.helpers.yolo_checks import check_yolo_models\n",
    "from octron.yolo_octron.helpers.training import collect_labels"
   ]
  },
  {
   "cell_type": "code",
   "execution_count": 4,
   "metadata": {},
   "outputs": [],
   "source": [
    "base_path = Path('/Users/horst/Documents/python/OCTRON/octron/notebooks').parent\n",
    "models_yaml_path = base_path / 'yolo_octron/yolo_models.yaml'\n",
    "\n",
    "project_path = Path('/Users/horst/Downloads/octron_project_2')\n",
    "assert project_path.exists()"
   ]
  },
  {
   "cell_type": "markdown",
   "metadata": {},
   "source": [
    "### Organize training data "
   ]
  },
  {
   "cell_type": "code",
   "execution_count": 5,
   "metadata": {},
   "outputs": [],
   "source": [
    "# Run collect_labels in isolation. This would be triggered if a new project path is chosen\n",
    "#label_dict = collect_labels(project_path)   \n",
    "#label_dict"
   ]
  },
  {
   "cell_type": "code",
   "execution_count": 6,
   "metadata": {},
   "outputs": [
    {
     "name": "stdout",
     "output_type": "stream",
     "text": [
      "Models folder /Users/horst/Documents/python/OCTRON/octron/yolo_octron/models exists.\n",
      "Model file /Users/horst/Documents/python/OCTRON/octron/yolo_octron/models/yolo11m-seg.pt exists. Skipping download.\n",
      "Model file /Users/horst/Documents/python/OCTRON/octron/yolo_octron/models/yolo11l-seg.pt exists. Skipping download.\n",
      "Model file /Users/horst/Documents/python/OCTRON/octron/yolo_octron/models/yolo11x-seg.pt exists. Skipping download.\n"
     ]
    }
   ],
   "source": [
    "yolo_octron = YOLO_octron(models_yaml_path=models_yaml_path,\n",
    "                          )"
   ]
  },
  {
   "cell_type": "code",
   "execution_count": null,
   "metadata": {},
   "outputs": [],
   "source": [
    "yolo_octron.project_path = project_path"
   ]
  },
  {
   "cell_type": "code",
   "execution_count": null,
   "metadata": {},
   "outputs": [],
   "source": [
    "yolo_octron.models_dict "
   ]
  },
  {
   "cell_type": "code",
   "execution_count": null,
   "metadata": {},
   "outputs": [],
   "source": [
    "yolo_octron.prepare_labels(\n",
    "                    prune_empty_labels=True, \n",
    "                    min_num_frames=10, \n",
    "                    verbose=False, \n",
    ")\n",
    "prepare_polygons = yolo_octron.prepare_polygons()\n",
    "# Process all yielded values\n",
    "for no_entry, total_label_dict, label, frame_no, total_frames in prepare_polygons:\n",
    "    # add progress reporting here \n",
    "    pass\n",
    "    \n",
    "print(\"Polygon preparation complete!\")\n",
    "yolo_octron.prepare_split(\n",
    "                    training_fraction=0.7,\n",
    "                    validation_fraction=0.15,\n",
    "                    verbose=False,\n",
    ")"
   ]
  },
  {
   "cell_type": "code",
   "execution_count": null,
   "metadata": {},
   "outputs": [],
   "source": [
    "create_training_data = yolo_octron.create_training_data()\n",
    "# Process all yielded values\n",
    "for no_entry, total_label_dict, label, split, frame_no, total_frames in create_training_data:\n",
    "    # add progress reporting here \n",
    "    pass\n",
    "    \n",
    "yolo_octron.write_yolo_config()"
   ]
  },
  {
   "cell_type": "markdown",
   "metadata": {},
   "source": [
    "## YOLO training"
   ]
  },
  {
   "cell_type": "code",
   "execution_count": null,
   "metadata": {},
   "outputs": [],
   "source": [
    "_ = yolo_octron.load_model('YOLO11l')"
   ]
  },
  {
   "cell_type": "code",
   "execution_count": null,
   "metadata": {},
   "outputs": [],
   "source": [
    "yolo_octron.launch_tensorboard()"
   ]
  },
  {
   "cell_type": "code",
   "execution_count": null,
   "metadata": {},
   "outputs": [],
   "source": [
    "train_results = yolo_octron.train(epochs=1)"
   ]
  },
  {
   "cell_type": "code",
   "execution_count": null,
   "metadata": {},
   "outputs": [],
   "source": [
    "# # Load a model\n",
    "# import time\n",
    "\n",
    "# path_to_model = Path('/Users/horst/Documents/python/OCTRON/octron/yolo_octron/models/yolo11l-seg.pt')\n",
    "# config_path = Path('/Users/horst/Downloads/octron_project_2/model/training_data/yolo_config.yaml')\n",
    "# path_to_training = Path('/Users/horst/Downloads/octron_project_2/model/training_data')\n",
    "\n",
    "# def on_train_start(trainer):\n",
    "#     print(\"🥳  Training is starting!\")\n",
    "\n",
    "# def on_fit_epoch_end(trainer):\n",
    "#     current_epoch = trainer.epoch + 1 \n",
    "#     time_epoch = trainer.epoch_time\n",
    "#     print(f\"Time for epoch: {time_epoch}\")\n",
    "#     remaining_time = time_epoch * (no_epochs - current_epoch)   \n",
    "#     finish_time = time.time() + remaining_time\n",
    "#     finish_time_str = ' '.join(time.ctime(finish_time).split()[:-1])\n",
    "#     print(f\"Estimated time remaining: {remaining_time} seconds\")    \n",
    "#     print(f'Estimated finish time: {finish_time_str}')  \n",
    "    \n",
    "# from ultralytics import YOLO\n",
    "# model = YOLO(path_to_model)  # load a pretrained model (recommended for training)\n",
    "# model.add_callback(\"on_train_start\", on_train_start)\n",
    "# model.add_callback(\"on_fit_epoch_end\", on_fit_epoch_end)\n",
    "# no_epochs = 1\n",
    "\n",
    "# # Train the model\n",
    "# # https://docs.ultralytics.com/usage/cfg/#solutions-settings\n",
    "# results = model.train(data=config_path, \n",
    "#                       save_dir=path_to_training.as_posix(),\n",
    "#                       name='training',\n",
    "#                       mode='segment',\n",
    "#                       device='cpu',\n",
    "#                       mask_ratio=4,\n",
    "#                       epochs=no_epochs,\n",
    "#                       imgsz=640,\n",
    "#                       resume=False,\n",
    "#                       plots=True,\n",
    "#                       batch=.9,\n",
    "#                       cache=False,\n",
    "#                       save=True,\n",
    "#                       save_period=15,\n",
    "#                       project=None,\n",
    "#                       exist_ok=True,\n",
    "#                       # augmentation\n",
    "#                       augment=True,\n",
    "#                       hsv_v=.25,\n",
    "#                       degrees=180,\n",
    "#                       scale=.5,\n",
    "#                       shear=2,\n",
    "#                       flipud=.1,\n",
    "#                       fliplr=.1,\n",
    "#                       mosaic=1.0,\n",
    "#                       copy_paste=.5,\n",
    "#                       copy_paste_mode='mixup', \n",
    "#                       erasing=.25,\n",
    "#                       crop_fraction=1.0,\n",
    "#                       )"
   ]
  },
  {
   "cell_type": "code",
   "execution_count": null,
   "metadata": {},
   "outputs": [],
   "source": [
    "# model = YOLO('/Users/horst/Downloads/octron_project/octron_training/yolo runs/segment/train/weights/last.pt')  #"
   ]
  },
  {
   "cell_type": "code",
   "execution_count": null,
   "metadata": {},
   "outputs": [],
   "source": [
    "# metrics = model.val(device='cpu', plots=True)"
   ]
  },
  {
   "cell_type": "code",
   "execution_count": null,
   "metadata": {},
   "outputs": [],
   "source": []
  }
 ],
 "metadata": {
  "kernelspec": {
   "display_name": "sam2",
   "language": "python",
   "name": "python3"
  },
  "language_info": {
   "codemirror_mode": {
    "name": "ipython",
    "version": 3
   },
   "file_extension": ".py",
   "mimetype": "text/x-python",
   "name": "python",
   "nbconvert_exporter": "python",
   "pygments_lexer": "ipython3",
   "version": "3.11.11"
  }
 },
 "nbformat": 4,
 "nbformat_minor": 2
}

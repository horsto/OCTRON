{
 "cells": [
  {
   "cell_type": "markdown",
   "metadata": {
    "vscode": {
     "languageId": "plaintext"
    }
   },
   "source": [
    "## Yolo11 tests"
   ]
  },
  {
   "cell_type": "code",
   "execution_count": null,
   "metadata": {},
   "outputs": [],
   "source": [
    "%load_ext autoreload\n",
    "%autoreload 2"
   ]
  },
  {
   "cell_type": "code",
   "execution_count": null,
   "metadata": {},
   "outputs": [],
   "source": [
    "import os , sys\n",
    "from pathlib import Path\n",
    "cur_path = Path(os.getcwd()).parent.parent\n",
    "sys.path.append(cur_path.as_posix())\n",
    "from matplotlib import pyplot as plt\n",
    "import cmasher as cmr\n",
    "import numpy as np\n",
    "import seaborn as sns\n",
    "sns.set_theme(style='white')\n",
    "%config InlineBackend.figure_format = 'retina'"
   ]
  },
  {
   "cell_type": "code",
   "execution_count": null,
   "metadata": {},
   "outputs": [],
   "source": [
    "# from pathlib import Path\n",
    "# import sys\n",
    "# import os\n",
    "# # Add the octron module path to sys.path\n",
    "\n",
    "# # Get the parent directory of the current working directory\n",
    "# project_root = Path(os.getcwd()).parent\n",
    "\n",
    "# # Make sure the octron module is in the path\n",
    "# if project_root not in sys.path:\n",
    "#     sys.path.append(str(project_root))\n",
    "\n",
    "# # You may need to check if the structure is correct\n",
    "# print(f\"Project root: {project_root}\")\n",
    "# print(f\"Modules in project root: {[p.name for p in project_root.iterdir() if p.is_dir() and not p.name.startswith('.')]}\")"
   ]
  },
  {
   "cell_type": "code",
   "execution_count": null,
   "metadata": {},
   "outputs": [],
   "source": [
    "from octron.yolo_octron.yolo_octron import YOLO_octron\n",
    "from octron.yolo_octron.helpers.yolo_checks import check_yolo_models\n",
    "from octron.yolo_octron.helpers.training import collect_labels, draw_polygons"
   ]
  },
  {
   "cell_type": "markdown",
   "metadata": {},
   "source": [
    "### Organize training data "
   ]
  },
  {
   "cell_type": "code",
   "execution_count": null,
   "metadata": {},
   "outputs": [],
   "source": [
    "project_path = Path('/Users/horst/Downloads/octo_paralarvae')\n",
    "yolo_octron = YOLO_octron()"
   ]
  },
  {
   "cell_type": "code",
   "execution_count": null,
   "metadata": {},
   "outputs": [],
   "source": [
    "yolo_octron.project_path = project_path\n",
    "yolo_octron.prepare_labels(verbose=True, prune_empty_labels=False)\n",
    "for no_entry, _, label, f_no, _ in yolo_octron.prepare_polygons():\n",
    "    pass"
   ]
  },
  {
   "cell_type": "code",
   "execution_count": null,
   "metadata": {},
   "outputs": [],
   "source": [
    "for dic in yolo_octron.label_dict.values():\n",
    "    draw_polygons(dic,\n",
    "                  dic['video'],\n",
    "                  max_to_plot=5,\n",
    "                  )"
   ]
  },
  {
   "cell_type": "markdown",
   "metadata": {},
   "source": [
    "### Prediction"
   ]
  },
  {
   "cell_type": "code",
   "execution_count": null,
   "metadata": {},
   "outputs": [],
   "source": [
    "from octron.sam2_octron.helpers.video_loader import probe_video\n",
    "from napari_pyav._reader import FastVideoReader\n"
   ]
  },
  {
   "cell_type": "code",
   "execution_count": null,
   "metadata": {},
   "outputs": [],
   "source": [
    "vpath = Path('/Users/horst/Downloads/Mouse pupil/Test/Radnitz_2017-01-12_videos_eye_clip.mp4')\n",
    "video_dict = probe_video(vpath) \n",
    "video_reader= FastVideoReader(vpath, read_format='rgb24')\n",
    "\n",
    "videos_to_predict = {} \n",
    "videos_to_predict[vpath] = video_dict\n",
    "videos_to_predict[vpath]['video'] = video_reader\n"
   ]
  },
  {
   "cell_type": "code",
   "execution_count": null,
   "metadata": {},
   "outputs": [],
   "source": [
    "model_predict_path = Path('/Users/horst/Downloads/Mouse pupil/model/training/weights/last.pt')\n",
    "device_label = 'cpu'\n",
    "yolo_tracker_name = 'bytetrack' # BoTSORT\n",
    "iou_thresh = .6\n",
    "conf_thresh = .6\n",
    "polygon_sigma = 1.\n",
    "overwrite_predictions = True"
   ]
  },
  {
   "cell_type": "code",
   "execution_count": null,
   "metadata": {},
   "outputs": [],
   "source": []
  },
  {
   "cell_type": "code",
   "execution_count": null,
   "metadata": {},
   "outputs": [],
   "source": [
    "# from tqdm.notebook import tqdm\n",
    "\n",
    "# # Initialize tqdm progress bar\n",
    "# total_frames = videos_to_predict[vpath]['num_frames']\n",
    "# with tqdm(total=total_frames, desc=\"Processing frames\", unit=\"frames\") as pbar:\n",
    "#     for progress_info in yolo_octron.predict_batch(\n",
    "#                                         videos_dict=videos_to_predict,\n",
    "#                                         model_path=model_predict_path,\n",
    "#                                         device=device_label,\n",
    "#                                         tracker_name=yolo_tracker_name,\n",
    "#                                         one_object_per_label=False,\n",
    "#                                         iou_thresh=iou_thresh,\n",
    "#                                         conf_thresh=conf_thresh,\n",
    "#                                         polygon_sigma=polygon_sigma,\n",
    "#                                         overwrite=overwrite_predictions, \n",
    "#                                     ):\n",
    "#         # Update the progress bar\n",
    "#         try:\n",
    "#             pbar.update(progress_info['frame'] - pbar.n)\n",
    "#         except Exception as e:\n",
    "#             pass\n",
    "            "
   ]
  },
  {
   "cell_type": "code",
   "execution_count": null,
   "metadata": {},
   "outputs": [],
   "source": []
  }
 ],
 "metadata": {
  "kernelspec": {
   "display_name": "sam2",
   "language": "python",
   "name": "python3"
  },
  "language_info": {
   "codemirror_mode": {
    "name": "ipython",
    "version": 3
   },
   "file_extension": ".py",
   "mimetype": "text/x-python",
   "name": "python",
   "nbconvert_exporter": "python",
   "pygments_lexer": "ipython3",
   "version": "3.11.11"
  }
 },
 "nbformat": 4,
 "nbformat_minor": 2
}

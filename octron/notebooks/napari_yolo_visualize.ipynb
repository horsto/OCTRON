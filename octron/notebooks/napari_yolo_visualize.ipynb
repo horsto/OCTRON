{
 "cells": [
  {
   "cell_type": "markdown",
   "metadata": {
    "vscode": {
     "languageId": "plaintext"
    }
   },
   "source": [
    "## Yolo11 tests - visualizations of results"
   ]
  },
  {
   "cell_type": "code",
   "execution_count": null,
   "metadata": {},
   "outputs": [],
   "source": [
    "%load_ext autoreload\n",
    "%autoreload 2"
   ]
  },
  {
   "cell_type": "code",
   "execution_count": null,
   "metadata": {},
   "outputs": [],
   "source": [
    "import os , sys\n",
    "from pathlib import Path\n",
    "cur_path = Path(os.getcwd()).parent.parent\n",
    "sys.path.append(cur_path.as_posix())\n",
    "# Enable plotting and make plots pretty (seaborn)\n",
    "from matplotlib import pyplot as plt\n",
    "import matplotlib as mpl\n",
    "plt.style.use('dark_background')\n",
    "import seaborn as sns\n",
    "sns.set_theme(style='white')\n",
    "%config InlineBackend.figure_format = 'retina'\n",
    "plt.style.use('dark_background')\n",
    "mpl.rcParams.update({\"axes.grid\" : True, \"grid.color\": \"grey\", \"grid.alpha\": .3})\n",
    "plt.rcParams['xtick.major.size'] = 10\n",
    "plt.rcParams['xtick.major.width'] = 1\n",
    "plt.rcParams['ytick.major.size'] = 10\n",
    "plt.rcParams['ytick.major.width'] = 1\n",
    "plt.rcParams['xtick.bottom'] = True\n",
    "plt.rcParams['ytick.left'] = True"
   ]
  },
  {
   "cell_type": "code",
   "execution_count": null,
   "metadata": {},
   "outputs": [],
   "source": [
    "from octron.yolo_octron.yolo_octron import YOLO_octron\n",
    "import pandas as pd\n",
    "import numpy as np\n",
    "import cv2\n",
    "from scipy.ndimage import distance_transform_edt"
   ]
  },
  {
   "cell_type": "code",
   "execution_count": null,
   "metadata": {},
   "outputs": [],
   "source": [
    "yolo_octron = YOLO_octron()"
   ]
  },
  {
   "cell_type": "code",
   "execution_count": null,
   "metadata": {},
   "outputs": [],
   "source": [
    "output_dir = Path('/Users/horst/Downloads/predictions/20221130_Behaviour_Single_3_clip_bytetrack')"
   ]
  },
  {
   "cell_type": "code",
   "execution_count": null,
   "metadata": {},
   "outputs": [],
   "source": [
    "results_dict = {}\n",
    "for label, track_id, track_df_napari, features_df_napari, mask_zarr in yolo_octron.show_predictions(save_dir = output_dir):\n",
    "    print(label, track_id)\n",
    "    results_dict[label] = {\n",
    "        'track_id': track_id,\n",
    "        'track_df_napari': track_df_napari,\n",
    "        'features_df_napari': features_df_napari    \n",
    "        \n",
    "        \n",
    "    }\n",
    "    if label == 'head':\n",
    "        break\n",
    "    # for i, row in track_df_napari.iterrows():\n",
    "    #     print(row['frame'], row['x'], row['y'])\n",
    "    #     plt.imshow(row['image'])\n",
    "    #     plt.scatter(row['x'], row['y'], color = 'red')\n",
    "    #     plt.show()"
   ]
  },
  {
   "cell_type": "markdown",
   "metadata": {},
   "source": [
    "## [WIP] Mask Interpolation"
   ]
  },
  {
   "cell_type": "code",
   "execution_count": null,
   "metadata": {},
   "outputs": [],
   "source": [
    "from octron.yolo_octron.helpers.mask_interpolation import interpolate_masks"
   ]
  },
  {
   "cell_type": "code",
   "execution_count": null,
   "metadata": {},
   "outputs": [],
   "source": [
    "mask = np.zeros((500,500))\n",
    "mask1 = mask.copy()\n",
    "mask2 = mask.copy()\n",
    "mask1[30:80, 30:80] = 1 \n",
    "mask2[100:160, 260:280] = 1"
   ]
  },
  {
   "cell_type": "code",
   "execution_count": null,
   "metadata": {},
   "outputs": [],
   "source": [
    "mask_A = mask1\n",
    "mask_B = mask2\n",
    "\n",
    "interpolated_masks = interpolate_masks(mask_A, mask_B, num_frames=15, control_points=150)"
   ]
  },
  {
   "cell_type": "code",
   "execution_count": null,
   "metadata": {},
   "outputs": [],
   "source": [
    "for i, mask in enumerate(interpolated_masks):\n",
    "    plt.imshow(mask)\n",
    "    plt.title(f'Interpolated Mask {i+1}')\n",
    "    plt.axis('off')\n",
    "    plt.show()"
   ]
  },
  {
   "cell_type": "code",
   "execution_count": null,
   "metadata": {},
   "outputs": [],
   "source": []
  },
  {
   "cell_type": "code",
   "execution_count": null,
   "metadata": {},
   "outputs": [],
   "source": []
  }
 ],
 "metadata": {
  "kernelspec": {
   "display_name": "sam2",
   "language": "python",
   "name": "python3"
  },
  "language_info": {
   "codemirror_mode": {
    "name": "ipython",
    "version": 3
   },
   "file_extension": ".py",
   "mimetype": "text/x-python",
   "name": "python",
   "nbconvert_exporter": "python",
   "pygments_lexer": "ipython3",
   "version": "3.11.11"
  }
 },
 "nbformat": 4,
 "nbformat_minor": 2
}

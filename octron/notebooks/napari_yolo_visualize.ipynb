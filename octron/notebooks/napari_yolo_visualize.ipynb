{
 "cells": [
  {
   "cell_type": "markdown",
   "metadata": {
    "vscode": {
     "languageId": "plaintext"
    }
   },
   "source": [
    "## Yolo11 tests - visualizations of results"
   ]
  },
  {
   "cell_type": "code",
   "execution_count": 1,
   "metadata": {},
   "outputs": [],
   "source": [
    "%load_ext autoreload\n",
    "%autoreload 2"
   ]
  },
  {
   "cell_type": "code",
   "execution_count": 2,
   "metadata": {},
   "outputs": [],
   "source": [
    "from octron.yolo_octron.yolo_octron import YOLO_octron"
   ]
  },
  {
   "cell_type": "code",
   "execution_count": 3,
   "metadata": {},
   "outputs": [
    {
     "name": "stdout",
     "output_type": "stream",
     "text": [
      "No models YAML path provided. Model dictionary will be empty.\n"
     ]
    }
   ],
   "source": [
    "yolo_octron = YOLO_octron()"
   ]
  },
  {
   "cell_type": "code",
   "execution_count": 6,
   "metadata": {},
   "outputs": [],
   "source": [
    "output_dir = \"/Users/horst/Downloads/predictions/5_behaviour_filtered2024-10-30T14_30_02_20240930_Th16_20240930_Th17_botsort\""
   ]
  },
  {
   "cell_type": "code",
   "execution_count": 13,
   "metadata": {},
   "outputs": [
    {
     "name": "stdout",
     "output_type": "stream",
     "text": [
      "File: /Users/horst/Downloads/5_behaviour_filtered2024-10-30T14_30_02_20240930_Th16_20240930_Th17.mp4\n",
      "Codec: h264\n",
      "Resolution: 1000 x 1000\n",
      "Frame Rate: 7.0\n",
      "Number of frames: 4186\n",
      "Duration: 598.00 seconds\n",
      "Found 3 tracking CSV files\n",
      "Found predictions zarr file: /Users/horst/Downloads/predictions/5_behaviour_filtered2024-10-30T14_30_02_20240930_Th16_20240930_Th17_botsort/predictions.zarr\n",
      "Existing keys in zarr archive: ['3_masks', '1_masks', '2_masks']\n",
      "Frames are not continuous ... interpolating\n",
      "Frames are not continuous ... interpolating\n",
      "Frames are not continuous ... interpolating\n"
     ]
    }
   ],
   "source": [
    "yolo_octron.show_predictions(\n",
    "    save_dir = output_dir\n",
    ")"
   ]
  },
  {
   "cell_type": "code",
   "execution_count": null,
   "metadata": {},
   "outputs": [],
   "source": []
  }
 ],
 "metadata": {
  "kernelspec": {
   "display_name": "sam2",
   "language": "python",
   "name": "python3"
  },
  "language_info": {
   "codemirror_mode": {
    "name": "ipython",
    "version": 3
   },
   "file_extension": ".py",
   "mimetype": "text/x-python",
   "name": "python",
   "nbconvert_exporter": "python",
   "pygments_lexer": "ipython3",
   "version": "3.11.11"
  }
 },
 "nbformat": 4,
 "nbformat_minor": 2
}

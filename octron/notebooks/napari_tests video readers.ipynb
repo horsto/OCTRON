{
 "cells": [
  {
   "cell_type": "markdown",
   "metadata": {
    "vscode": {
     "languageId": "plaintext"
    }
   },
   "source": [
    "### Napari tests - video readers\n"
   ]
  },
  {
   "cell_type": "code",
   "execution_count": 1,
   "metadata": {},
   "outputs": [],
   "source": [
    "%load_ext autoreload\n",
    "%autoreload 2"
   ]
  },
  {
   "cell_type": "code",
   "execution_count": 2,
   "metadata": {},
   "outputs": [],
   "source": [
    "import os , sys\n",
    "sys.path.append('..')\n",
    "from pathlib import Path\n",
    "cur_path = Path(os.getcwd()).parent\n",
    "\n",
    "from matplotlib import pyplot as plt\n",
    "import cmasher as cmr\n",
    "import numpy as np\n",
    "import seaborn as sns\n",
    "sns.set_theme(style='white')\n",
    "%config InlineBackend.figure_format = 'retina'"
   ]
  },
  {
   "cell_type": "code",
   "execution_count": 3,
   "metadata": {},
   "outputs": [],
   "source": [
    "import napari\n",
    "import zarr\n",
    "import shutil"
   ]
  },
  {
   "cell_type": "code",
   "execution_count": 6,
   "metadata": {},
   "outputs": [],
   "source": [
    "video_path = Path('/Users/horst/Downloads/1_behaviour_filtered2024-12-06T14_11_23_20240930_Th18.avi')"
   ]
  },
  {
   "cell_type": "code",
   "execution_count": null,
   "metadata": {},
   "outputs": [],
   "source": [
    "\n",
    "\n",
    "device = \"cpu\"  # or e.g. \"cuda\" !\n",
    "decoder = VideoDecoder(\"path/to/video.mp4\", device=device)\n",
    "\n",
    "decoder.metadata\n",
    "# VideoStreamMetadata:\n",
    "#   num_frames: 250\n",
    "#   duration_seconds: 10.0\n",
    "#   bit_rate: 31315.0\n",
    "#   codec: h264\n",
    "#   average_fps: 25.0\n",
    "#   ... (truncated output)\n",
    "\n",
    "# Simple Indexing API\n",
    "decoder[0]  # uint8 tensor of shape [C, H, W]\n",
    "decoder[0 : -1 : 20]  # uint8 stacked tensor of shape [N, C, H, W]\n",
    "\n",
    "# Indexing, with PTS and duration info:\n",
    "decoder.get_frames_at(indices=[2, 100])\n",
    "# FrameBatch:\n",
    "#   data (shape): torch.Size([2, 3, 270, 480])\n",
    "#   pts_seconds: tensor([0.0667, 3.3367], dtype=torch.float64)\n",
    "#   duration_seconds: tensor([0.0334, 0.0334], dtype=torch.float64)\n",
    "\n",
    "# Time-based indexing with PTS and duration info\n",
    "decoder.get_frames_played_at(seconds=[0.5, 10.4])\n",
    "# FrameBatch:\n",
    "#   data (shape): torch.Size([2, 3, 270, 480])\n",
    "#   pts_seconds: tensor([ 0.4671, 10.3770], dtype=torch.float64)\n",
    "#   duration_seconds: tensor([0.0334, 0.0334], dtype=torch.float64)"
   ]
  }
 ],
 "metadata": {
  "kernelspec": {
   "display_name": "sam2",
   "language": "python",
   "name": "python3"
  },
  "language_info": {
   "codemirror_mode": {
    "name": "ipython",
    "version": 3
   },
   "file_extension": ".py",
   "mimetype": "text/x-python",
   "name": "python",
   "nbconvert_exporter": "python",
   "pygments_lexer": "ipython3",
   "version": "3.11.11"
  }
 },
 "nbformat": 4,
 "nbformat_minor": 2
}
